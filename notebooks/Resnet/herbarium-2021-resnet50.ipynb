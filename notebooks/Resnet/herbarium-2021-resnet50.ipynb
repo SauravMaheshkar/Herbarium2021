{
 "cells": [
  {
   "cell_type": "markdown",
   "metadata": {
    "papermill": {
     "duration": 0.018372,
     "end_time": "2021-04-12T06:25:34.245659",
     "exception": false,
     "start_time": "2021-04-12T06:25:34.227287",
     "status": "completed"
    },
    "tags": []
   },
   "source": [
    "The Herbarium 2021: Half-Earth Challenge is to identify vascular plant specimens provided by the New York Botanical Garden (NY), Bishop Museum (BPBM), Naturalis Biodiversity Center (NL), Queensland Herbarium (BRI), and Auckland War Memorial Museum (AK).\n",
    "\n",
    "The Herbarium 2021: Half-Earth Challenge dataset includes more than 2.5M images representing nearly 65,000 species from the Americas and Oceania that have been aligned to a standardized plant list (LCVP v1.0.2)."
   ]
  },
  {
   "cell_type": "markdown",
   "metadata": {
    "papermill": {
     "duration": 0.016324,
     "end_time": "2021-04-12T06:25:34.278660",
     "exception": false,
     "start_time": "2021-04-12T06:25:34.262336",
     "status": "completed"
    },
    "tags": []
   },
   "source": [
    "## Disclaimer\n",
    "\n",
    "This kernel is heavily inspired from [@yasufuminakama](https://www.kaggle.com/yasufuminakama)'s kernel from last year's competition [Herbarium 2020 PyTorch Resnet18 [train]](https://www.kaggle.com/yasufuminakama/herbarium-2020-pytorch-resnet18-train)"
   ]
  },
  {
   "cell_type": "markdown",
   "metadata": {
    "papermill": {
     "duration": 0.016341,
     "end_time": "2021-04-12T06:25:34.311652",
     "exception": false,
     "start_time": "2021-04-12T06:25:34.295311",
     "status": "completed"
    },
    "tags": []
   },
   "source": [
    "# Table of Content\n",
    "\n",
    "1. [Packages 📦 and Basic Setup](#packages)\n",
    "2. [🏷 Label Encoder](#label-encoder)\n",
    "3. [💿 Dataset, DataLoader and K-Fold](#data)\n",
    "4. [The Model 👷‍♀️](#Model)\n",
    "5. [Training 💪🏻](#Training)"
   ]
  },
  {
   "cell_type": "markdown",
   "metadata": {
    "papermill": {
     "duration": 0.017097,
     "end_time": "2021-04-12T06:25:34.345533",
     "exception": false,
     "start_time": "2021-04-12T06:25:34.328436",
     "status": "completed"
    },
    "tags": []
   },
   "source": [
    "<a id = \"packages\"></a>\n",
    "# Packages 📦 and Basic Setup\n",
    "\n",
    "In the following **hidden** code cell, we: \n",
    "\n",
    "* Import the required libraries (Main ones being [`torch`](https://pytorch.org/), [`torchvision`](https://pytorch.org/vision/0.8/index.html) and [`sklearn`](https://scikit-learn.org/stable/index.html))\n",
    "* Print the device configuration\n",
    "* Set Random Seed 🌱 to ensure reproducibility\n",
    "* Create a [Logger 📃](https://docs.python.org/3/library/logging.html) for Event Logging"
   ]
  },
  {
   "cell_type": "code",
   "execution_count": 1,
   "metadata": {
    "_cell_guid": "b1076dfc-b9ad-4769-8c92-a6c4dae69d19",
    "_kg_hide-input": true,
    "_uuid": "8f2839f25d086af736a60e9eeb907d3b93b6e0e5",
    "execution": {
     "iopub.execute_input": "2021-04-12T06:25:34.391568Z",
     "iopub.status.busy": "2021-04-12T06:25:34.390775Z",
     "iopub.status.idle": "2021-04-12T06:25:38.778484Z",
     "shell.execute_reply": "2021-04-12T06:25:38.777095Z"
    },
    "papermill": {
     "duration": 4.416328,
     "end_time": "2021-04-12T06:25:38.778735",
     "exception": false,
     "start_time": "2021-04-12T06:25:34.362407",
     "status": "completed"
    },
    "tags": []
   },
   "outputs": [
    {
     "name": "stderr",
     "output_type": "stream",
     "text": [
      "INFO:Herbarium:Logger Initialized\n"
     ]
    }
   ],
   "source": [
    "# Import Statements\n",
    "import os # To set Random Seed for Reproducibility\n",
    "import cv2 # For Image 🌌 Processing\n",
    "import json # For Reading in the JSON file\n",
    "import torch # The Main Machine Learning Framework\n",
    "import random # To set Random Seed for Reproducibility\n",
    "import logging # For Event Logging\n",
    "import sklearn # For LabelEncoder and Metrics\n",
    "import torchvision # For creating a pretrained model\n",
    "import numpy as np # For Numerical Processing\n",
    "import pandas as pd # For creating DataFrames \n",
    "import albumentations # For Image Augmentations\n",
    "from tqdm import tqdm # For Creating ProgressBar\n",
    "from sklearn import preprocessing # For the 🏷 Label Encoder\n",
    "from albumentations.pytorch import ToTensorV2 # For Converting to torch.Tensor\n",
    "from sklearn.model_selection import StratifiedKFold # For Cross Validation\n",
    "\n",
    "\n",
    "# Device Configuration\n",
    "device = torch.device('cuda' if torch.cuda.is_available() else 'cpu')\n",
    "device\n",
    "\n",
    "# Setting RandomSeed🌱 for Reproducibility \n",
    "def seed_torch(seed:int =42):\n",
    "    random.seed(seed)\n",
    "    os.environ['PYTHONHASHSEED'] = str(seed)\n",
    "    np.random.seed(seed)\n",
    "    torch.manual_seed(seed)\n",
    "    torch.cuda.manual_seed(seed)\n",
    "    torch.backends.cudnn.deterministic = True\n",
    "\n",
    "seed_torch()\n",
    "\n",
    "# Creating a logger 📃\n",
    "def init_logger(log_file:str ='training.log'):\n",
    "    \n",
    "    # Specify the format \n",
    "    formatter = logging.Formatter('%(levelname)s:%(name)s:%(message)s')\n",
    "    \n",
    "    # Create a StreamHandler Instance\n",
    "    stream_handler = logging.StreamHandler()\n",
    "    stream_handler.setLevel(logging.DEBUG)\n",
    "    stream_handler.setFormatter(formatter)\n",
    "    \n",
    "    # Create a FileHandler Instance\n",
    "    file_handler = logging.FileHandler(log_file)\n",
    "    file_handler.setFormatter(formatter)\n",
    "    \n",
    "    # Create a logging.Logger Instance\n",
    "    logger = logging.getLogger('Herbarium')\n",
    "    logger.setLevel(logging.DEBUG)\n",
    "    logger.addHandler(stream_handler)\n",
    "    logger.addHandler(file_handler)\n",
    "    \n",
    "    return logger\n",
    "\n",
    "LOGGER = init_logger()\n",
    "LOGGER.info(\"Logger Initialized\")"
   ]
  },
  {
   "cell_type": "code",
   "execution_count": 2,
   "metadata": {
    "execution": {
     "iopub.execute_input": "2021-04-12T06:25:38.846093Z",
     "iopub.status.busy": "2021-04-12T06:25:38.843880Z",
     "iopub.status.idle": "2021-04-12T06:25:38.847247Z",
     "shell.execute_reply": "2021-04-12T06:25:38.848237Z"
    },
    "papermill": {
     "duration": 0.039517,
     "end_time": "2021-04-12T06:25:38.848476",
     "exception": false,
     "start_time": "2021-04-12T06:25:38.808959",
     "status": "completed"
    },
    "tags": []
   },
   "outputs": [],
   "source": [
    "# Basic Parameters for the Model\n",
    "N_CLASSES = 64500\n",
    "HEIGHT = 128\n",
    "WIDTH = 128\n",
    "batch_size = 128\n",
    "n_epochs = 1\n",
    "lr = 4e-4"
   ]
  },
  {
   "cell_type": "code",
   "execution_count": 3,
   "metadata": {
    "execution": {
     "iopub.execute_input": "2021-04-12T06:25:38.913977Z",
     "iopub.status.busy": "2021-04-12T06:25:38.912975Z",
     "iopub.status.idle": "2021-04-12T06:26:04.778774Z",
     "shell.execute_reply": "2021-04-12T06:26:04.779360Z"
    },
    "papermill": {
     "duration": 25.902367,
     "end_time": "2021-04-12T06:26:04.779541",
     "exception": false,
     "start_time": "2021-04-12T06:25:38.877174",
     "status": "completed"
    },
    "tags": []
   },
   "outputs": [
    {
     "name": "stderr",
     "output_type": "stream",
     "text": [
      "INFO:Herbarium:Train DataFrame Created: ✅\n"
     ]
    },
    {
     "name": "stdout",
     "output_type": "stream",
     "text": [
      "CPU times: user 20.2 s, sys: 2.06 s, total: 22.3 s\n",
      "Wall time: 25.8 s\n"
     ]
    },
    {
     "data": {
      "text/html": [
       "<div>\n",
       "<style scoped>\n",
       "    .dataframe tbody tr th:only-of-type {\n",
       "        vertical-align: middle;\n",
       "    }\n",
       "\n",
       "    .dataframe tbody tr th {\n",
       "        vertical-align: top;\n",
       "    }\n",
       "\n",
       "    .dataframe thead th {\n",
       "        text-align: right;\n",
       "    }\n",
       "</style>\n",
       "<table border=\"1\" class=\"dataframe\">\n",
       "  <thead>\n",
       "    <tr style=\"text-align: right;\">\n",
       "      <th></th>\n",
       "      <th>file_name</th>\n",
       "      <th>height</th>\n",
       "      <th>id</th>\n",
       "      <th>license</th>\n",
       "      <th>width</th>\n",
       "      <th>category_id</th>\n",
       "      <th>institution_id</th>\n",
       "    </tr>\n",
       "  </thead>\n",
       "  <tbody>\n",
       "    <tr>\n",
       "      <th>0</th>\n",
       "      <td>images/604/92/1814367.jpg</td>\n",
       "      <td>1000</td>\n",
       "      <td>1814367</td>\n",
       "      <td>0</td>\n",
       "      <td>678</td>\n",
       "      <td>60492</td>\n",
       "      <td>0</td>\n",
       "    </tr>\n",
       "    <tr>\n",
       "      <th>1</th>\n",
       "      <td>images/108/24/1308257.jpg</td>\n",
       "      <td>1000</td>\n",
       "      <td>1308257</td>\n",
       "      <td>0</td>\n",
       "      <td>666</td>\n",
       "      <td>10824</td>\n",
       "      <td>0</td>\n",
       "    </tr>\n",
       "    <tr>\n",
       "      <th>2</th>\n",
       "      <td>images/330/76/1270453.jpg</td>\n",
       "      <td>1000</td>\n",
       "      <td>1270453</td>\n",
       "      <td>0</td>\n",
       "      <td>739</td>\n",
       "      <td>33076</td>\n",
       "      <td>3</td>\n",
       "    </tr>\n",
       "    <tr>\n",
       "      <th>3</th>\n",
       "      <td>images/247/99/1123834.jpg</td>\n",
       "      <td>1000</td>\n",
       "      <td>1123834</td>\n",
       "      <td>0</td>\n",
       "      <td>672</td>\n",
       "      <td>24799</td>\n",
       "      <td>0</td>\n",
       "    </tr>\n",
       "    <tr>\n",
       "      <th>4</th>\n",
       "      <td>images/170/18/1042410.jpg</td>\n",
       "      <td>1000</td>\n",
       "      <td>1042410</td>\n",
       "      <td>0</td>\n",
       "      <td>675</td>\n",
       "      <td>17018</td>\n",
       "      <td>0</td>\n",
       "    </tr>\n",
       "  </tbody>\n",
       "</table>\n",
       "</div>"
      ],
      "text/plain": [
       "                   file_name  height       id  license  width  category_id  \\\n",
       "0  images/604/92/1814367.jpg    1000  1814367        0    678        60492   \n",
       "1  images/108/24/1308257.jpg    1000  1308257        0    666        10824   \n",
       "2  images/330/76/1270453.jpg    1000  1270453        0    739        33076   \n",
       "3  images/247/99/1123834.jpg    1000  1123834        0    672        24799   \n",
       "4  images/170/18/1042410.jpg    1000  1042410        0    675        17018   \n",
       "\n",
       "   institution_id  \n",
       "0               0  \n",
       "1               0  \n",
       "2               3  \n",
       "3               0  \n",
       "4               0  "
      ]
     },
     "execution_count": 3,
     "metadata": {},
     "output_type": "execute_result"
    }
   ],
   "source": [
    "%%time\n",
    "with open('../input/herbarium-2021-fgvc8/train/metadata.json', \"r\", encoding=\"ISO-8859-1\") as file:\n",
    "    train = json.load(file)\n",
    "\n",
    "train_img = pd.DataFrame(train['images'])\n",
    "train_ann = pd.DataFrame(train['annotations']).drop(columns='image_id')\n",
    "train_df = train_img.merge(train_ann, on='id')\n",
    "LOGGER.info(\"Train DataFrame Created: ✅\")\n",
    "train_df.head()"
   ]
  },
  {
   "cell_type": "markdown",
   "metadata": {
    "papermill": {
     "duration": 0.018114,
     "end_time": "2021-04-12T06:26:04.816321",
     "exception": false,
     "start_time": "2021-04-12T06:26:04.798207",
     "status": "completed"
    },
    "tags": []
   },
   "source": [
    "As we can see the DataFrame contains the following columns:\n",
    "\n",
    "* `file_name: str`: Contains the Relative Path to the Images\n",
    "* `height: int`: The Height of the Image\n",
    "* `width: int`: The Width of the Image\n",
    "* `id: int`: The Image ID\n",
    "* `license: int`: Either 0, 1 or 2\n",
    "* `category_id: int`: Our **Target Variable** determining the species corresponding to the Image"
   ]
  },
  {
   "cell_type": "code",
   "execution_count": 4,
   "metadata": {
    "execution": {
     "iopub.execute_input": "2021-04-12T06:26:04.859185Z",
     "iopub.status.busy": "2021-04-12T06:26:04.858030Z",
     "iopub.status.idle": "2021-04-12T06:26:04.933383Z",
     "shell.execute_reply": "2021-04-12T06:26:04.933935Z"
    },
    "papermill": {
     "duration": 0.099546,
     "end_time": "2021-04-12T06:26:04.934139",
     "exception": false,
     "start_time": "2021-04-12T06:26:04.834593",
     "status": "completed"
    },
    "tags": []
   },
   "outputs": [
    {
     "data": {
      "text/plain": [
       "42811    3309\n",
       "25229    2142\n",
       "48372    2038\n",
       "42843    1656\n",
       "22344    1575\n",
       "         ... \n",
       "62525       2\n",
       "11297       2\n",
       "58424       2\n",
       "39154       2\n",
       "2047        2\n",
       "Name: category_id, Length: 64500, dtype: int64"
      ]
     },
     "execution_count": 4,
     "metadata": {},
     "output_type": "execute_result"
    }
   ],
   "source": [
    "train_df['category_id'].value_counts()"
   ]
  },
  {
   "cell_type": "code",
   "execution_count": 5,
   "metadata": {
    "execution": {
     "iopub.execute_input": "2021-04-12T06:26:04.977438Z",
     "iopub.status.busy": "2021-04-12T06:26:04.976559Z",
     "iopub.status.idle": "2021-04-12T06:26:05.333637Z",
     "shell.execute_reply": "2021-04-12T06:26:05.334197Z"
    },
    "papermill": {
     "duration": 0.380986,
     "end_time": "2021-04-12T06:26:05.334406",
     "exception": false,
     "start_time": "2021-04-12T06:26:04.953420",
     "status": "completed"
    },
    "tags": []
   },
   "outputs": [
    {
     "data": {
      "text/plain": [
       "array([[<AxesSubplot:title={'center':'category_id'}>]], dtype=object)"
      ]
     },
     "execution_count": 5,
     "metadata": {},
     "output_type": "execute_result"
    },
    {
     "data": {
      "image/png": "[encoded data removed]",
      "text/plain": [
       "<Figure size 432x288 with 1 Axes>"
      ]
     },
     "metadata": {
      "needs_background": "light"
     },
     "output_type": "display_data"
    }
   ],
   "source": [
    "train_df.hist(column=\"category_id\")"
   ]
  },
  {
   "cell_type": "code",
   "execution_count": 6,
   "metadata": {
    "execution": {
     "iopub.execute_input": "2021-04-12T06:26:05.380924Z",
     "iopub.status.busy": "2021-04-12T06:26:05.380250Z",
     "iopub.status.idle": "2021-04-12T06:26:06.674762Z",
     "shell.execute_reply": "2021-04-12T06:26:06.674181Z"
    },
    "papermill": {
     "duration": 1.320178,
     "end_time": "2021-04-12T06:26:06.674908",
     "exception": false,
     "start_time": "2021-04-12T06:26:05.354730",
     "status": "completed"
    },
    "tags": []
   },
   "outputs": [
    {
     "name": "stderr",
     "output_type": "stream",
     "text": [
      "INFO:Herbarium:Test DataFrame Created: ✅\n"
     ]
    },
    {
     "name": "stdout",
     "output_type": "stream",
     "text": [
      "CPU times: user 1.02 s, sys: 62.2 ms, total: 1.08 s\n",
      "Wall time: 1.28 s\n"
     ]
    },
    {
     "data": {
      "text/html": [
       "<div>\n",
       "<style scoped>\n",
       "    .dataframe tbody tr th:only-of-type {\n",
       "        vertical-align: middle;\n",
       "    }\n",
       "\n",
       "    .dataframe tbody tr th {\n",
       "        vertical-align: top;\n",
       "    }\n",
       "\n",
       "    .dataframe thead th {\n",
       "        text-align: right;\n",
       "    }\n",
       "</style>\n",
       "<table border=\"1\" class=\"dataframe\">\n",
       "  <thead>\n",
       "    <tr style=\"text-align: right;\">\n",
       "      <th></th>\n",
       "      <th>file_name</th>\n",
       "      <th>height</th>\n",
       "      <th>id</th>\n",
       "      <th>license</th>\n",
       "      <th>width</th>\n",
       "    </tr>\n",
       "  </thead>\n",
       "  <tbody>\n",
       "    <tr>\n",
       "      <th>0</th>\n",
       "      <td>images/000/0.jpg</td>\n",
       "      <td>1000</td>\n",
       "      <td>0</td>\n",
       "      <td>0</td>\n",
       "      <td>680</td>\n",
       "    </tr>\n",
       "    <tr>\n",
       "      <th>1</th>\n",
       "      <td>images/000/1.jpg</td>\n",
       "      <td>1000</td>\n",
       "      <td>1</td>\n",
       "      <td>0</td>\n",
       "      <td>681</td>\n",
       "    </tr>\n",
       "    <tr>\n",
       "      <th>2</th>\n",
       "      <td>images/000/2.jpg</td>\n",
       "      <td>1000</td>\n",
       "      <td>2</td>\n",
       "      <td>0</td>\n",
       "      <td>676</td>\n",
       "    </tr>\n",
       "    <tr>\n",
       "      <th>3</th>\n",
       "      <td>images/000/3.jpg</td>\n",
       "      <td>1000</td>\n",
       "      <td>3</td>\n",
       "      <td>0</td>\n",
       "      <td>666</td>\n",
       "    </tr>\n",
       "    <tr>\n",
       "      <th>4</th>\n",
       "      <td>images/000/4.jpg</td>\n",
       "      <td>1000</td>\n",
       "      <td>4</td>\n",
       "      <td>0</td>\n",
       "      <td>676</td>\n",
       "    </tr>\n",
       "  </tbody>\n",
       "</table>\n",
       "</div>"
      ],
      "text/plain": [
       "          file_name  height  id  license  width\n",
       "0  images/000/0.jpg    1000   0        0    680\n",
       "1  images/000/1.jpg    1000   1        0    681\n",
       "2  images/000/2.jpg    1000   2        0    676\n",
       "3  images/000/3.jpg    1000   3        0    666\n",
       "4  images/000/4.jpg    1000   4        0    676"
      ]
     },
     "execution_count": 6,
     "metadata": {},
     "output_type": "execute_result"
    }
   ],
   "source": [
    "%%time\n",
    "with open('../input/herbarium-2021-fgvc8/test/metadata.json', \"r\", encoding=\"ISO-8859-1\") as file:\n",
    "    test = json.load(file)\n",
    "\n",
    "test_df = pd.DataFrame(test['images'])\n",
    "LOGGER.info(\"Test DataFrame Created: ✅\")\n",
    "test_df.head()"
   ]
  },
  {
   "cell_type": "markdown",
   "metadata": {
    "papermill": {
     "duration": 0.020944,
     "end_time": "2021-04-12T06:26:06.717859",
     "exception": false,
     "start_time": "2021-04-12T06:26:06.696915",
     "status": "completed"
    },
    "tags": []
   },
   "source": [
    "<a id=\"label-encoder\"></a>\n",
    "# 🏷 Label Encoder\n",
    "\n",
    "We use the [LabelEncoder](https://scikit-learn.org/stable/modules/generated/sklearn.preprocessing.LabelEncoder.html) from sklearn.preprocessing in order to encode **target labels** with value between `0` and `n_classes-1`."
   ]
  },
  {
   "cell_type": "code",
   "execution_count": 7,
   "metadata": {
    "execution": {
     "iopub.execute_input": "2021-04-12T06:26:06.767558Z",
     "iopub.status.busy": "2021-04-12T06:26:06.766339Z",
     "iopub.status.idle": "2021-04-12T06:26:07.476159Z",
     "shell.execute_reply": "2021-04-12T06:26:07.475490Z"
    },
    "papermill": {
     "duration": 0.736668,
     "end_time": "2021-04-12T06:26:07.476313",
     "exception": false,
     "start_time": "2021-04-12T06:26:06.739645",
     "status": "completed"
    },
    "tags": []
   },
   "outputs": [
    {
     "name": "stderr",
     "output_type": "stream",
     "text": [
      "INFO:Herbarium:LabelEncoder Instance created ✅\n",
      "INFO:Herbarium:Fitting the LabelEncoder Instance\n",
      "INFO:Herbarium:Converting Labels to Normalized Encoding\n"
     ]
    }
   ],
   "source": [
    "# Create a Instance of LabelEncoder\n",
    "encoder = preprocessing.LabelEncoder()\n",
    "LOGGER.info(\"LabelEncoder Instance created ✅\")\n",
    "\n",
    "# Fits the label encoder instance\n",
    "LOGGER.info(\"Fitting the LabelEncoder Instance\")\n",
    "encoder.fit(train_df['category_id'])\n",
    "\n",
    "# To Transform labels to normalized encoding\n",
    "LOGGER.info(\"Converting Labels to Normalized Encoding\")\n",
    "train_df['category_id'] = encoder.transform(train_df['category_id'])"
   ]
  },
  {
   "cell_type": "markdown",
   "metadata": {
    "papermill": {
     "duration": 0.022547,
     "end_time": "2021-04-12T06:26:07.521962",
     "exception": false,
     "start_time": "2021-04-12T06:26:07.499415",
     "status": "completed"
    },
    "tags": []
   },
   "source": [
    "<a id = \"Data\"></a>\n",
    "# 💿 Dataset, DataLoader and K-Fold"
   ]
  },
  {
   "cell_type": "markdown",
   "metadata": {
    "papermill": {
     "duration": 0.022364,
     "end_time": "2021-04-12T06:26:07.566906",
     "exception": false,
     "start_time": "2021-04-12T06:26:07.544542",
     "status": "completed"
    },
    "tags": []
   },
   "source": [
    "The following code cell aims to convert the Herbarium dataset into a torch `torch..utils.data.Dataset` object.\n",
    "\n",
    "All Dataset objects in pytorch represent a map from keys to data samples. We create a subclass which overwrites the __getitem__() and __len__() method (for it to work well with the `torch.utils.data.DataLoader`).\n",
    "\n",
    "In the __getitem__() method, we use df[<column_name>].values[] to get the `file_name `and then use `cv2` to read the image. If the transform bool is set to True, we apply the transforms. \n",
    "\n",
    "Each element of our dataset returns:\n",
    "\n",
    "* Image\n",
    "* Encoded Label"
   ]
  },
  {
   "cell_type": "code",
   "execution_count": 8,
   "metadata": {
    "execution": {
     "iopub.execute_input": "2021-04-12T06:26:07.622164Z",
     "iopub.status.busy": "2021-04-12T06:26:07.621225Z",
     "iopub.status.idle": "2021-04-12T06:26:07.624846Z",
     "shell.execute_reply": "2021-04-12T06:26:07.624325Z"
    },
    "papermill": {
     "duration": 0.035416,
     "end_time": "2021-04-12T06:26:07.624987",
     "exception": false,
     "start_time": "2021-04-12T06:26:07.589571",
     "status": "completed"
    },
    "tags": []
   },
   "outputs": [],
   "source": [
    "class TrainDataset(torch.utils.data.Dataset):\n",
    "    \"\"\"\n",
    "    Custom Dataset Class\n",
    "    \"\"\"\n",
    "    def __init__(self, df, labels, transform=None):\n",
    "        self.df = df\n",
    "        self.labels = labels\n",
    "        self.transform = transform\n",
    "        \n",
    "    def __len__(self) -> int:\n",
    "        return len(self.df)\n",
    "\n",
    "    def __getitem__(self, idx):\n",
    "        file_name = self.df['file_name'].values[idx]\n",
    "        file_path = f'../input/herbarium-2021-fgvc8/train/{file_name}'\n",
    "        image = cv2.imread(file_path)\n",
    "        image = cv2.cvtColor(image, cv2.COLOR_BGR2RGB)\n",
    "        label = self.labels.values[idx]\n",
    "        \n",
    "        if self.transform:\n",
    "            augmented = self.transform(image=image)\n",
    "            image = augmented['image']\n",
    "        \n",
    "        return image, label"
   ]
  },
  {
   "cell_type": "markdown",
   "metadata": {
    "papermill": {
     "duration": 0.022584,
     "end_time": "2021-04-12T06:26:07.670723",
     "exception": false,
     "start_time": "2021-04-12T06:26:07.648139",
     "status": "completed"
    },
    "tags": []
   },
   "source": [
    "## Image Augmentation:🌆 -> 🌇\n",
    "\n",
    "Applying Standard Image Augmentation Techniques, such as `Resize`, `Normalize` and conversion to `torch.Tensor`"
   ]
  },
  {
   "cell_type": "code",
   "execution_count": 9,
   "metadata": {
    "execution": {
     "iopub.execute_input": "2021-04-12T06:26:07.725236Z",
     "iopub.status.busy": "2021-04-12T06:26:07.724276Z",
     "iopub.status.idle": "2021-04-12T06:26:07.727569Z",
     "shell.execute_reply": "2021-04-12T06:26:07.728104Z"
    },
    "papermill": {
     "duration": 0.034692,
     "end_time": "2021-04-12T06:26:07.728272",
     "exception": false,
     "start_time": "2021-04-12T06:26:07.693580",
     "status": "completed"
    },
    "tags": []
   },
   "outputs": [],
   "source": [
    "def get_transforms(*, data: str):\n",
    "    \n",
    "    # Only allows transforms for \"train\" and \"valid\"\n",
    "    assert data in ('train', 'valid')\n",
    "    \n",
    "    # Data Transformations for Training set\n",
    "    if data == 'train':\n",
    "        return albumentations.Compose([\n",
    "            albumentations.Resize(HEIGHT, WIDTH),\n",
    "            albumentations.Normalize(\n",
    "                mean=[0.485, 0.456, 0.406],\n",
    "                std=[0.229, 0.224, 0.225],\n",
    "            ),\n",
    "            ToTensorV2(),\n",
    "        ])\n",
    "    \n",
    "    # Data Transformations for Validation set\n",
    "    elif data == 'valid':\n",
    "        return albumentations.Compose([\n",
    "            albumentations.Resize(HEIGHT, WIDTH),\n",
    "            albumentations.Normalize(\n",
    "                mean=[0.485, 0.456, 0.406],\n",
    "                std=[0.229, 0.224, 0.225],\n",
    "            ),\n",
    "            ToTensorV2(),\n",
    "        ])"
   ]
  },
  {
   "cell_type": "markdown",
   "metadata": {
    "papermill": {
     "duration": 0.023002,
     "end_time": "2021-04-12T06:26:07.774271",
     "exception": false,
     "start_time": "2021-04-12T06:26:07.751269",
     "status": "completed"
    },
    "tags": []
   },
   "source": [
    "## StratifiedKFold\n",
    "\n",
    "Stratified kfold cross validation is an extension of regular kfold cross validation but specifically for **classification problems** where rather than the splits being completely random, the ratio between the target classes is the same in each fold as it is in the full dataset. We choose to use StratifiedKFold because we have some class imbalance in our Dataset."
   ]
  },
  {
   "cell_type": "code",
   "execution_count": 10,
   "metadata": {
    "execution": {
     "iopub.execute_input": "2021-04-12T06:26:07.832800Z",
     "iopub.status.busy": "2021-04-12T06:26:07.831365Z",
     "iopub.status.idle": "2021-04-12T06:27:39.567614Z",
     "shell.execute_reply": "2021-04-12T06:27:39.566996Z"
    },
    "papermill": {
     "duration": 91.769305,
     "end_time": "2021-04-12T06:27:39.567775",
     "exception": false,
     "start_time": "2021-04-12T06:26:07.798470",
     "status": "completed"
    },
    "tags": []
   },
   "outputs": [
    {
     "name": "stderr",
     "output_type": "stream",
     "text": [
      "INFO:Herbarium:Creating StratifiedKFold Instance\n",
      "INFO:Herbarium:Creating Splits\n",
      "INFO:Herbarium:Exporting Folds to csv\n"
     ]
    }
   ],
   "source": [
    "# For Debugging\n",
    "DEBUG = False\n",
    "\n",
    "if DEBUG:\n",
    "    folds = train_df.sample(n=10000, random_state=0).reset_index(drop=True).copy()\n",
    "else:\n",
    "    folds = train_df.copy()\n",
    "\n",
    "# Create a seperate train_labels variable\n",
    "train_labels = folds['category_id'].values\n",
    "\n",
    "# Create StratifiedKFold Instance\n",
    "LOGGER.info(\"Creating StratifiedKFold Instance\")\n",
    "kf = StratifiedKFold(n_splits=2)\n",
    "\n",
    "# Creating Splits\n",
    "LOGGER.info(\"Creating Splits\")\n",
    "for fold, (train_index, val_index) in enumerate(kf.split(folds.values, train_labels)):\n",
    "    folds.loc[val_index, 'fold'] = int(fold)\n",
    "    \n",
    "folds['fold'] = folds['fold'].astype(int)\n",
    "\n",
    "# Exporting to CSV\n",
    "LOGGER.info(\"Exporting Folds to csv\")\n",
    "folds.to_csv('folds.csv', index=None)\n",
    "\n",
    "\n",
    "# Creating Train and Valid sets\n",
    "FOLD = 0\n",
    "trn_idx = folds[folds['fold'] != FOLD].index\n",
    "val_idx = folds[folds['fold'] == FOLD].index"
   ]
  },
  {
   "cell_type": "markdown",
   "metadata": {
    "papermill": {
     "duration": 0.043767,
     "end_time": "2021-04-12T06:27:39.640660",
     "exception": false,
     "start_time": "2021-04-12T06:27:39.596893",
     "status": "completed"
    },
    "tags": []
   },
   "source": [
    "It takes a lot of time to generate folds, that's we use Weights and Biases Artifacts to store our `folds.csv`. You can store different versions of your datasets and models in the cloud as Artifacts. Think of an Artifact as of a folder of data to which we can add individual files, and then upload to the cloud as a part of our W&B project, which also supports automatic versioning of datasets and models. Artifacts also track the training pipelines as DAGs. Here's an example of a  artifacts graph.\n",
    "\n",
    "![](https://i.imgur.com/QQULnpP.gif)"
   ]
  },
  {
   "cell_type": "code",
   "execution_count": 11,
   "metadata": {
    "execution": {
     "iopub.execute_input": "2021-04-12T06:27:39.756468Z",
     "iopub.status.busy": "2021-04-12T06:27:39.754408Z",
     "iopub.status.idle": "2021-04-12T06:27:40.644778Z",
     "shell.execute_reply": "2021-04-12T06:27:40.643696Z"
    },
    "papermill": {
     "duration": 0.948364,
     "end_time": "2021-04-12T06:27:40.644934",
     "exception": false,
     "start_time": "2021-04-12T06:27:39.696570",
     "status": "completed"
    },
    "tags": []
   },
   "outputs": [
    {
     "name": "stderr",
     "output_type": "stream",
     "text": [
      "INFO:Herbarium:Training Dataset Object Created ✅\n",
      "INFO:Herbarium:Validation Dataset Object Created ✅\n"
     ]
    }
   ],
   "source": [
    "# Create Training Dataset\n",
    "train_dataset = TrainDataset(folds.loc[trn_idx].reset_index(drop=True), \n",
    "                             folds.loc[trn_idx]['category_id'], \n",
    "                             transform=get_transforms(data='train'))\n",
    "LOGGER.info(\"Training Dataset Object Created ✅\")\n",
    "\n",
    "# Create Validation Dataset\n",
    "valid_dataset = TrainDataset(folds.loc[val_idx].reset_index(drop=True), \n",
    "                             folds.loc[val_idx]['category_id'], \n",
    "                             transform=get_transforms(data='valid'))\n",
    "LOGGER.info(\"Validation Dataset Object Created ✅\")"
   ]
  },
  {
   "cell_type": "code",
   "execution_count": 12,
   "metadata": {
    "execution": {
     "iopub.execute_input": "2021-04-12T06:27:40.707589Z",
     "iopub.status.busy": "2021-04-12T06:27:40.704388Z",
     "iopub.status.idle": "2021-04-12T06:27:40.714627Z",
     "shell.execute_reply": "2021-04-12T06:27:40.715192Z"
    },
    "papermill": {
     "duration": 0.044309,
     "end_time": "2021-04-12T06:27:40.715353",
     "exception": false,
     "start_time": "2021-04-12T06:27:40.671044",
     "status": "completed"
    },
    "tags": []
   },
   "outputs": [
    {
     "name": "stderr",
     "output_type": "stream",
     "text": [
      "INFO:Herbarium:Creating Training DataLoader\n",
      "INFO:Herbarium:Training DataLoader created\n",
      "INFO:Herbarium:Creating Validation DataLoader\n",
      "INFO:Herbarium:Validation DataLoader created\n"
     ]
    }
   ],
   "source": [
    "LOGGER.info(\"Creating Training DataLoader\")\n",
    "train_loader = torch.utils.data.DataLoader(train_dataset, batch_size=batch_size, shuffle=True, num_workers=4)\n",
    "LOGGER.info(\"Training DataLoader created\")\n",
    "\n",
    "LOGGER.info(\"Creating Validation DataLoader\")\n",
    "valid_loader = torch.utils.data.DataLoader(valid_dataset, batch_size=batch_size, shuffle=False, num_workers=4)\n",
    "LOGGER.info(\"Validation DataLoader created\")"
   ]
  },
  {
   "cell_type": "markdown",
   "metadata": {
    "papermill": {
     "duration": 0.026934,
     "end_time": "2021-04-12T06:27:40.769734",
     "exception": false,
     "start_time": "2021-04-12T06:27:40.742800",
     "status": "completed"
    },
    "tags": []
   },
   "source": [
    "<a id = \"Model\"></a>\n",
    "# The Model 👷‍♀️\n",
    "\n",
    "---\n",
    "\n",
    "## Transfer Learning\n",
    "\n",
    "The main aim of transfer learning (TL) is to implement a model quickly i.e. instead of creating a DNN (dense neural network) from scratch, the model will transfer the features it has learned from the different dataset that has performed the same task. This transaction is also known as **knowledge transfer**.\n"
   ]
  },
  {
   "cell_type": "code",
   "execution_count": 13,
   "metadata": {
    "execution": {
     "iopub.execute_input": "2021-04-12T06:27:40.831269Z",
     "iopub.status.busy": "2021-04-12T06:27:40.830391Z",
     "iopub.status.idle": "2021-04-12T06:27:43.997161Z",
     "shell.execute_reply": "2021-04-12T06:27:43.996560Z"
    },
    "papermill": {
     "duration": 3.200855,
     "end_time": "2021-04-12T06:27:43.997312",
     "exception": false,
     "start_time": "2021-04-12T06:27:40.796457",
     "status": "completed"
    },
    "tags": []
   },
   "outputs": [
    {
     "name": "stderr",
     "output_type": "stream",
     "text": [
      "INFO:Herbarium:Model Created ✅\n"
     ]
    }
   ],
   "source": [
    "%%capture\n",
    "# Creating a instance of a Resnet50 pretrained Model\n",
    "model = torchvision.models.resnet50(pretrained=True)\n",
    "\n",
    "# Add a Adaptive Average Pooling Layer\n",
    "model.avgpool = torch.nn.AdaptiveAvgPool2d(1)\n",
    "\n",
    "# Add a Fully connected Layer with N_CLASSES as the output dimension\n",
    "model.fc = torch.nn.Linear(model.fc.in_features, N_CLASSES)\n",
    "\n",
    "LOGGER.info(\"Model Created ✅\")"
   ]
  },
  {
   "cell_type": "markdown",
   "metadata": {
    "papermill": {
     "duration": 0.027154,
     "end_time": "2021-04-12T06:27:44.051809",
     "exception": false,
     "start_time": "2021-04-12T06:27:44.024655",
     "status": "completed"
    },
    "tags": []
   },
   "source": [
    "<a id=\"Training\"></a>\n",
    "\n",
    "# Training 💪🏻\n",
    "\n",
    "looping over our data iterator, and feed the inputs to the network and optimize."
   ]
  },
  {
   "cell_type": "code",
   "execution_count": 14,
   "metadata": {
    "execution": {
     "iopub.execute_input": "2021-04-12T06:27:44.131354Z",
     "iopub.status.busy": "2021-04-12T06:27:44.130444Z",
     "iopub.status.idle": "2021-04-12T13:07:29.252113Z",
     "shell.execute_reply": "2021-04-12T13:07:29.250269Z"
    },
    "papermill": {
     "duration": 23985.173032,
     "end_time": "2021-04-12T13:07:29.252280",
     "exception": false,
     "start_time": "2021-04-12T06:27:44.079248",
     "status": "completed"
    },
    "tags": []
   },
   "outputs": [
    {
     "name": "stderr",
     "output_type": "stream",
     "text": [
      "INFO:Herbarium:Starting Training\n",
      "8820it [3:27:23,  1.41s/it]\n",
      "DEBUG:Herbarium:  Epoch 1 - avg_train_loss: 13.3491  avg_val_loss: 2.9711  F1: 0.178286\n",
      "DEBUG:Herbarium:  Epoch 1 - Save Best Score: 0.178286 Model\n",
      "DEBUG:Herbarium:  Epoch 1 - Save Best Validation Loss: 2.9711 Model\n"
     ]
    }
   ],
   "source": [
    "# moves the model to the device\n",
    "model.to(device)\n",
    "\n",
    "# Creating Optimizers and Schedulers\n",
    "optimizer = torch.optim.Adam(model.parameters(), lr=lr, amsgrad=True)\n",
    "scheduler = torch.optim.lr_scheduler.ReduceLROnPlateau(optimizer, 'min', factor=0.75, patience=5, verbose=True, eps=1e-6)\n",
    "    \n",
    "# Loss Function\n",
    "criterion = torch.nn.CrossEntropyLoss()\n",
    "best_score = 0.\n",
    "best_loss = np.inf\n",
    "\n",
    "checkpoint = torch.load(\"../input/herbarium-2021-resnet50-model-weights/fold0_best_loss.pth\")\n",
    "\n",
    "model.load_state_dict(checkpoint['model_state_dict'])\n",
    "optimizer.load_state_dict(checkpoint['optimizer_state_dict'])\n",
    "loss = checkpoint['loss']\n",
    "\n",
    "\n",
    "LOGGER.info(\"Starting Training\")\n",
    "    \n",
    "for epoch in range(n_epochs):\n",
    "        \n",
    "    # Sets the model in training mode\n",
    "    model.train()\n",
    "    avg_loss = loss\n",
    "\n",
    "    # Sets gradients of all model parameters to zero\n",
    "    optimizer.zero_grad()\n",
    "\n",
    "    for i, (images, labels) in tqdm(enumerate(train_loader)):\n",
    "        \n",
    "        # Move Image and Labels to device\n",
    "        images = images.to(device)\n",
    "        labels = labels.to(device)\n",
    "            \n",
    "        # Forward Pass\n",
    "        y_preds = model(images)\n",
    "        \n",
    "        # Calculate Loss\n",
    "        loss = criterion(y_preds, labels)\n",
    "            \n",
    "        # Backpropagation\n",
    "        loss.backward()\n",
    "        optimizer.step()\n",
    "        optimizer.zero_grad()\n",
    "\n",
    "        # Update Average Loss\n",
    "        avg_loss += loss.item() / len(train_loader)\n",
    "            \n",
    "    # Set Model in Eval mode\n",
    "    model.eval()\n",
    "    avg_val_loss = 0.\n",
    "    preds = np.zeros((len(valid_dataset)))\n",
    "\n",
    "    for i, (images, labels) in enumerate(valid_loader):\n",
    "            \n",
    "        # Move Image and Labels to device\n",
    "        images = images.to(device)\n",
    "        labels = labels.to(device)\n",
    "            \n",
    "        # To perform inference without Gradient Calculation\n",
    "        with torch.no_grad():\n",
    "            y_preds = model(images)\n",
    "            \n",
    "        preds[i * batch_size: (i+1) * batch_size] = y_preds.argmax(1).to('cpu').numpy()\n",
    "\n",
    "        # Calculate Loss\n",
    "        loss = criterion(y_preds, labels)\n",
    "        \n",
    "        # Update Average Validation Loss\n",
    "        avg_val_loss += loss.item() / len(valid_loader)\n",
    "        \n",
    "    # Updates Learning Rate wrt to the Average Validation Loss\n",
    "    scheduler.step(avg_val_loss)\n",
    "            \n",
    "    # Calculate F1 Score\n",
    "    score = sklearn.metrics.f1_score(folds.loc[val_idx]['category_id'].values, preds, average='macro')\n",
    "\n",
    "    # Prints Stats\n",
    "    LOGGER.debug(f'  Epoch {epoch+1} - avg_train_loss: {avg_loss:.4f}  avg_val_loss: {avg_val_loss:.4f}  F1: {score:.6f}')\n",
    "\n",
    "    # Update Best Score\n",
    "    if score>best_score:\n",
    "        best_score = score\n",
    "        LOGGER.debug(f'  Epoch {epoch+1} - Save Best Score: {best_score:.6f} Model')\n",
    "        torch.save({\n",
    "            'epoch': epoch,\n",
    "            'model_state_dict': model.state_dict(),\n",
    "            'optimizer_state_dict': optimizer.state_dict(),\n",
    "            'loss': loss,\n",
    "            'val_loss': best_loss,\n",
    "            }, f'fold{FOLD}_best_score.pth')\n",
    "\n",
    "    if avg_val_loss<best_loss:\n",
    "        best_loss = avg_val_loss\n",
    "        LOGGER.debug(f'  Epoch {epoch+1} - Save Best Validation Loss: {best_loss:.4f} Model')\n",
    "        torch.save({\n",
    "            'epoch': epoch,\n",
    "            'model_state_dict': model.state_dict(),\n",
    "            'optimizer_state_dict': optimizer.state_dict(),\n",
    "            'loss': loss,\n",
    "            'val_loss': best_loss,\n",
    "            }, f'fold{FOLD}_best_loss.pth')"
   ]
  },
  {
   "cell_type": "markdown",
   "metadata": {
    "papermill": {
     "duration": 3.436573,
     "end_time": "2021-04-12T13:07:53.223924",
     "exception": false,
     "start_time": "2021-04-12T13:07:49.787351",
     "status": "completed"
    },
    "tags": []
   },
   "source": [
    "# Resources\n",
    "\n",
    "- Logging Tutorial Series by Corey Schafer:\n",
    "    - [Video 🎥 1: Python Tutorial: Logging Basics - Logging to Files, Setting Levels, and Formatting\n",
    "](https://youtu.be/-ARI4Cz-awo)\n",
    "    - [Video 🎥 2: Python Tutorial: Logging Advanced - Loggers, Handlers, and Formatters\n",
    "](https://youtu.be/jxmzY9soFXg)\n",
    "\n",
    "- [Stratified K-Fold: What It Is & How to Use It](https://towardsdatascience.com/stratified-k-fold-what-it-is-how-to-use-it-cf3d107d3ea2)\n",
    "\n",
    "- [Weights and Biases: Getting Started](https://wandb.ai/site/getting-started)\n",
    "\n",
    "- [Compete More Effectively on Kaggle using Weights and Biases](https://youtu.be/Y7rjzfpWSo8)"
   ]
  }
 ],
 "metadata": {
  "kernelspec": {
   "display_name": "Python 3",
   "language": "python",
   "name": "python3"
  },
  "language_info": {
   "codemirror_mode": {
    "name": "ipython",
    "version": 3
   },
   "file_extension": ".py",
   "mimetype": "text/x-python",
   "name": "python",
   "nbconvert_exporter": "python",
   "pygments_lexer": "ipython3",
   "version": "3.7.9"
  },
  "papermill": {
   "default_parameters": {},
   "duration": 24152.261058,
   "end_time": "2021-04-12T13:08:00.676212",
   "environment_variables": {},
   "exception": null,
   "input_path": "__notebook__.ipynb",
   "output_path": "__notebook__.ipynb",
   "parameters": {},
   "start_time": "2021-04-12T06:25:28.415154",
   "version": "2.2.2"
  },
  "widgets": {
   "application/vnd.jupyter.widget-state+json": {
    "state": {
     "0c6179b41c414fd590e54315b37d42cd": {
      "model_module": "@jupyter-widgets/base",
      "model_module_version": "1.2.0",
      "model_name": "LayoutModel",
      "state": {
       "_model_module": "@jupyter-widgets/base",
       "_model_module_version": "1.2.0",
       "_model_name": "LayoutModel",
       "_view_count": null,
       "_view_module": "@jupyter-widgets/base",
       "_view_module_version": "1.2.0",
       "_view_name": "LayoutView",
       "align_content": null,
       "align_items": null,
       "align_self": null,
       "border": null,
       "bottom": null,
       "display": null,
       "flex": null,
       "flex_flow": null,
       "grid_area": null,
       "grid_auto_columns": null,
       "grid_auto_flow": null,
       "grid_auto_rows": null,
       "grid_column": null,
       "grid_gap": null,
       "grid_row": null,
       "grid_template_areas": null,
       "grid_template_columns": null,
       "grid_template_rows": null,
       "height": null,
       "justify_content": null,
       "justify_items": null,
       "left": null,
       "margin": null,
       "max_height": null,
       "max_width": null,
       "min_height": null,
       "min_width": null,
       "object_fit": null,
       "object_position": null,
       "order": null,
       "overflow": null,
       "overflow_x": null,
       "overflow_y": null,
       "padding": null,
       "right": null,
       "top": null,
       "visibility": null,
       "width": null
      }
     },
     "1b1b9ad00ff945d49c00600bc97340a8": {
      "model_module": "@jupyter-widgets/controls",
      "model_module_version": "1.5.0",
      "model_name": "FloatProgressModel",
      "state": {
       "_dom_classes": [],
       "_model_module": "@jupyter-widgets/controls",
       "_model_module_version": "1.5.0",
       "_model_name": "FloatProgressModel",
       "_view_count": null,
       "_view_module": "@jupyter-widgets/controls",
       "_view_module_version": "1.5.0",
       "_view_name": "ProgressView",
       "bar_style": "success",
       "description": "",
       "description_tooltip": null,
       "layout": "IPY_MODEL_0c6179b41c414fd590e54315b37d42cd",
       "max": 102502400.0,
       "min": 0.0,
       "orientation": "horizontal",
       "style": "IPY_MODEL_f69b081c4eb94ef7b94dbec791ea89ad",
       "value": 102502400.0
      }
     },
     "3475db7aef2c47c4a32d68c0c4a987ef": {
      "model_module": "@jupyter-widgets/base",
      "model_module_version": "1.2.0",
      "model_name": "LayoutModel",
      "state": {
       "_model_module": "@jupyter-widgets/base",
       "_model_module_version": "1.2.0",
       "_model_name": "LayoutModel",
       "_view_count": null,
       "_view_module": "@jupyter-widgets/base",
       "_view_module_version": "1.2.0",
       "_view_name": "LayoutView",
       "align_content": null,
       "align_items": null,
       "align_self": null,
       "border": null,
       "bottom": null,
       "display": null,
       "flex": null,
       "flex_flow": null,
       "grid_area": null,
       "grid_auto_columns": null,
       "grid_auto_flow": null,
       "grid_auto_rows": null,
       "grid_column": null,
       "grid_gap": null,
       "grid_row": null,
       "grid_template_areas": null,
       "grid_template_columns": null,
       "grid_template_rows": null,
       "height": null,
       "justify_content": null,
       "justify_items": null,
       "left": null,
       "margin": null,
       "max_height": null,
       "max_width": null,
       "min_height": null,
       "min_width": null,
       "object_fit": null,
       "object_position": null,
       "order": null,
       "overflow": null,
       "overflow_x": null,
       "overflow_y": null,
       "padding": null,
       "right": null,
       "top": null,
       "visibility": null,
       "width": null
      }
     },
     "635b2ff58b1345db87ad08433c64f107": {
      "model_module": "@jupyter-widgets/base",
      "model_module_version": "1.2.0",
      "model_name": "LayoutModel",
      "state": {
       "_model_module": "@jupyter-widgets/base",
       "_model_module_version": "1.2.0",
       "_model_name": "LayoutModel",
       "_view_count": null,
       "_view_module": "@jupyter-widgets/base",
       "_view_module_version": "1.2.0",
       "_view_name": "LayoutView",
       "align_content": null,
       "align_items": null,
       "align_self": null,
       "border": null,
       "bottom": null,
       "display": null,
       "flex": null,
       "flex_flow": null,
       "grid_area": null,
       "grid_auto_columns": null,
       "grid_auto_flow": null,
       "grid_auto_rows": null,
       "grid_column": null,
       "grid_gap": null,
       "grid_row": null,
       "grid_template_areas": null,
       "grid_template_columns": null,
       "grid_template_rows": null,
       "height": null,
       "justify_content": null,
       "justify_items": null,
       "left": null,
       "margin": null,
       "max_height": null,
       "max_width": null,
       "min_height": null,
       "min_width": null,
       "object_fit": null,
       "object_position": null,
       "order": null,
       "overflow": null,
       "overflow_x": null,
       "overflow_y": null,
       "padding": null,
       "right": null,
       "top": null,
       "visibility": null,
       "width": null
      }
     },
     "6b8005045b45443e83ce0eb45e12ef0f": {
      "model_module": "@jupyter-widgets/base",
      "model_module_version": "1.2.0",
      "model_name": "LayoutModel",
      "state": {
       "_model_module": "@jupyter-widgets/base",
       "_model_module_version": "1.2.0",
       "_model_name": "LayoutModel",
       "_view_count": null,
       "_view_module": "@jupyter-widgets/base",
       "_view_module_version": "1.2.0",
       "_view_name": "LayoutView",
       "align_content": null,
       "align_items": null,
       "align_self": null,
       "border": null,
       "bottom": null,
       "display": null,
       "flex": null,
       "flex_flow": null,
       "grid_area": null,
       "grid_auto_columns": null,
       "grid_auto_flow": null,
       "grid_auto_rows": null,
       "grid_column": null,
       "grid_gap": null,
       "grid_row": null,
       "grid_template_areas": null,
       "grid_template_columns": null,
       "grid_template_rows": null,
       "height": null,
       "justify_content": null,
       "justify_items": null,
       "left": null,
       "margin": null,
       "max_height": null,
       "max_width": null,
       "min_height": null,
       "min_width": null,
       "object_fit": null,
       "object_position": null,
       "order": null,
       "overflow": null,
       "overflow_x": null,
       "overflow_y": null,
       "padding": null,
       "right": null,
       "top": null,
       "visibility": null,
       "width": null
      }
     },
     "7fc358ac40624fa7b421de8b6e5cc289": {
      "model_module": "@jupyter-widgets/controls",
      "model_module_version": "1.5.0",
      "model_name": "DescriptionStyleModel",
      "state": {
       "_model_module": "@jupyter-widgets/controls",
       "_model_module_version": "1.5.0",
       "_model_name": "DescriptionStyleModel",
       "_view_count": null,
       "_view_module": "@jupyter-widgets/base",
       "_view_module_version": "1.2.0",
       "_view_name": "StyleView",
       "description_width": ""
      }
     },
     "bbe3e54b96cd4f83a74f8061e89a098b": {
      "model_module": "@jupyter-widgets/controls",
      "model_module_version": "1.5.0",
      "model_name": "HBoxModel",
      "state": {
       "_dom_classes": [],
       "_model_module": "@jupyter-widgets/controls",
       "_model_module_version": "1.5.0",
       "_model_name": "HBoxModel",
       "_view_count": null,
       "_view_module": "@jupyter-widgets/controls",
       "_view_module_version": "1.5.0",
       "_view_name": "HBoxView",
       "box_style": "",
       "children": [
        "IPY_MODEL_fb2c35d04c96470d94ea51dd77e0c880",
        "IPY_MODEL_1b1b9ad00ff945d49c00600bc97340a8",
        "IPY_MODEL_d4b951169acb48f9b3604262b572e379"
       ],
       "layout": "IPY_MODEL_635b2ff58b1345db87ad08433c64f107"
      }
     },
     "d3e6b032b8d042f4b20a626e2b1af42f": {
      "model_module": "@jupyter-widgets/controls",
      "model_module_version": "1.5.0",
      "model_name": "DescriptionStyleModel",
      "state": {
       "_model_module": "@jupyter-widgets/controls",
       "_model_module_version": "1.5.0",
       "_model_name": "DescriptionStyleModel",
       "_view_count": null,
       "_view_module": "@jupyter-widgets/base",
       "_view_module_version": "1.2.0",
       "_view_name": "StyleView",
       "description_width": ""
      }
     },
     "d4b951169acb48f9b3604262b572e379": {
      "model_module": "@jupyter-widgets/controls",
      "model_module_version": "1.5.0",
      "model_name": "HTMLModel",
      "state": {
       "_dom_classes": [],
       "_model_module": "@jupyter-widgets/controls",
       "_model_module_version": "1.5.0",
       "_model_name": "HTMLModel",
       "_view_count": null,
       "_view_module": "@jupyter-widgets/controls",
       "_view_module_version": "1.5.0",
       "_view_name": "HTMLView",
       "description": "",
       "description_tooltip": null,
       "layout": "IPY_MODEL_6b8005045b45443e83ce0eb45e12ef0f",
       "placeholder": "​",
       "style": "IPY_MODEL_7fc358ac40624fa7b421de8b6e5cc289",
       "value": " 97.8M/97.8M [00:00&lt;00:00, 114MB/s]"
      }
     },
     "f69b081c4eb94ef7b94dbec791ea89ad": {
      "model_module": "@jupyter-widgets/controls",
      "model_module_version": "1.5.0",
      "model_name": "ProgressStyleModel",
      "state": {
       "_model_module": "@jupyter-widgets/controls",
       "_model_module_version": "1.5.0",
       "_model_name": "ProgressStyleModel",
       "_view_count": null,
       "_view_module": "@jupyter-widgets/base",
       "_view_module_version": "1.2.0",
       "_view_name": "StyleView",
       "bar_color": null,
       "description_width": ""
      }
     },
     "fb2c35d04c96470d94ea51dd77e0c880": {
      "model_module": "@jupyter-widgets/controls",
      "model_module_version": "1.5.0",
      "model_name": "HTMLModel",
      "state": {
       "_dom_classes": [],
       "_model_module": "@jupyter-widgets/controls",
       "_model_module_version": "1.5.0",
       "_model_name": "HTMLModel",
       "_view_count": null,
       "_view_module": "@jupyter-widgets/controls",
       "_view_module_version": "1.5.0",
       "_view_name": "HTMLView",
       "description": "",
       "description_tooltip": null,
       "layout": "IPY_MODEL_3475db7aef2c47c4a32d68c0c4a987ef",
       "placeholder": "​",
       "style": "IPY_MODEL_d3e6b032b8d042f4b20a626e2b1af42f",
       "value": "100%"
      }
     }
    },
    "version_major": 2,
    "version_minor": 0
   }
  }
 },
 "nbformat": 4,
 "nbformat_minor": 4
}
