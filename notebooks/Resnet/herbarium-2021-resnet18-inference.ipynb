{
 "cells": [
  {
   "cell_type": "markdown",
   "metadata": {
    "papermill": {
     "duration": 0.010973,
     "end_time": "2021-03-15T06:05:25.170620",
     "exception": false,
     "start_time": "2021-03-15T06:05:25.159647",
     "status": "completed"
    },
    "tags": []
   },
   "source": [
    "The Herbarium 2021: Half-Earth Challenge is to identify vascular plant specimens provided by the New York Botanical Garden (NY), Bishop Museum (BPBM), Naturalis Biodiversity Center (NL), Queensland Herbarium (BRI), and Auckland War Memorial Museum (AK).\n",
    "\n",
    "The Herbarium 2021: Half-Earth Challenge dataset includes more than 2.5M images representing nearly 65,000 species from the Americas and Oceania that have been aligned to a standardized plant list (LCVP v1.0.2).\n",
    "\n",
    "## Disclaimer\n",
    "This kernel is heavily inspired from [@yasufuminakama](https://www.kaggle.com/yasufuminakama)'s kernel from last year's competition [Herbarium 2020 PyTorch Resnet18 [inference]](https://www.kaggle.com/yasufuminakama/herbarium-2020-pytorch-resnet18-inference)"
   ]
  },
  {
   "cell_type": "markdown",
   "metadata": {
    "papermill": {
     "duration": 0.009333,
     "end_time": "2021-03-15T06:05:25.189657",
     "exception": false,
     "start_time": "2021-03-15T06:05:25.180324",
     "status": "completed"
    },
    "tags": []
   },
   "source": [
    "<a id = \"basic\"></a>\n",
    "# Packages 📦 and Basic Setup\n",
    "\n",
    "In the following **hidden** code cell, we:\n",
    "\n",
    "* Import the required libraries (Main ones being torch, torchvision and sklearn)\n",
    "* Print the device configuration\n",
    "* Set Random Seed 🌱 to ensure reproducibility\n",
    "* Create a Logger 📃 for Event Logging"
   ]
  },
  {
   "cell_type": "code",
   "execution_count": 1,
   "metadata": {
    "_cell_guid": "b1076dfc-b9ad-4769-8c92-a6c4dae69d19",
    "_kg_hide-input": true,
    "_uuid": "8f2839f25d086af736a60e9eeb907d3b93b6e0e5",
    "execution": {
     "iopub.execute_input": "2021-03-15T06:05:25.218755Z",
     "iopub.status.busy": "2021-03-15T06:05:25.218067Z",
     "iopub.status.idle": "2021-03-15T06:05:28.882544Z",
     "shell.execute_reply": "2021-03-15T06:05:28.883036Z"
    },
    "papermill": {
     "duration": 3.684151,
     "end_time": "2021-03-15T06:05:28.883349",
     "exception": false,
     "start_time": "2021-03-15T06:05:25.199198",
     "status": "completed"
    },
    "tags": []
   },
   "outputs": [
    {
     "name": "stderr",
     "output_type": "stream",
     "text": [
      "INFO:Herbarium:Logger Initialized\n"
     ]
    }
   ],
   "source": [
    "# Import Statements\n",
    "import os # To set Random Seed for Reproducibility\n",
    "import cv2 # For Image 🌌 Processing\n",
    "import json # For Reading in the JSON file\n",
    "import torch # The Main Machine Learning Framework\n",
    "import random # To set Random Seed for Reproducibility\n",
    "import logging # For Event Logging\n",
    "import sklearn # For LabelEncoder and Metrics\n",
    "import torchvision # For creating a pretrained model\n",
    "import numpy as np # For Numerical Processing\n",
    "import pandas as pd # For creating DataFrames \n",
    "import albumentations # For Image Augmentations\n",
    "from tqdm import tqdm # For Creating ProgressBar\n",
    "from sklearn import preprocessing # For the 🏷 Label Encoder\n",
    "from albumentations.pytorch import ToTensorV2 # For Converting to torch.Tensor\n",
    "from sklearn.model_selection import StratifiedKFold # For Cross Validation\n",
    "\n",
    "\n",
    "# Device Configuration\n",
    "device = torch.device('cuda' if torch.cuda.is_available() else 'cpu')\n",
    "device\n",
    "\n",
    "# Setting RandomSeed🌱 for Reproducibility \n",
    "def seed_torch(seed:int =42):\n",
    "    random.seed(seed)\n",
    "    os.environ['PYTHONHASHSEED'] = str(seed)\n",
    "    np.random.seed(seed)\n",
    "    torch.manual_seed(seed)\n",
    "    torch.cuda.manual_seed(seed)\n",
    "    torch.backends.cudnn.deterministic = True\n",
    "\n",
    "seed_torch()\n",
    "\n",
    "# Creating a logger 📃\n",
    "def init_logger(log_file:str ='training.log'):\n",
    "    \n",
    "    # Specify the format \n",
    "    formatter = logging.Formatter('%(levelname)s:%(name)s:%(message)s')\n",
    "    \n",
    "    # Create a StreamHandler Instance\n",
    "    stream_handler = logging.StreamHandler()\n",
    "    stream_handler.setLevel(logging.DEBUG)\n",
    "    stream_handler.setFormatter(formatter)\n",
    "    \n",
    "    # Create a FileHandler Instance\n",
    "    file_handler = logging.FileHandler(log_file)\n",
    "    file_handler.setFormatter(formatter)\n",
    "    \n",
    "    # Create a logging.Logger Instance\n",
    "    logger = logging.getLogger('Herbarium')\n",
    "    logger.setLevel(logging.DEBUG)\n",
    "    logger.addHandler(stream_handler)\n",
    "    logger.addHandler(file_handler)\n",
    "    \n",
    "    return logger\n",
    "\n",
    "LOGGER = init_logger()\n",
    "LOGGER.info(\"Logger Initialized\")"
   ]
  },
  {
   "cell_type": "code",
   "execution_count": 2,
   "metadata": {
    "execution": {
     "iopub.execute_input": "2021-03-15T06:05:28.908321Z",
     "iopub.status.busy": "2021-03-15T06:05:28.907702Z",
     "iopub.status.idle": "2021-03-15T06:05:28.910586Z",
     "shell.execute_reply": "2021-03-15T06:05:28.910179Z"
    },
    "papermill": {
     "duration": 0.01658,
     "end_time": "2021-03-15T06:05:28.910723",
     "exception": false,
     "start_time": "2021-03-15T06:05:28.894143",
     "status": "completed"
    },
    "tags": []
   },
   "outputs": [],
   "source": [
    "# Basic Parameters for the Model\n",
    "N_CLASSES = 64500\n",
    "HEIGHT = 128\n",
    "WIDTH = 128\n",
    "batch_size = 512\n",
    "n_epochs = 1\n",
    "lr = 4e-4"
   ]
  },
  {
   "cell_type": "code",
   "execution_count": 3,
   "metadata": {
    "execution": {
     "iopub.execute_input": "2021-03-15T06:05:28.935342Z",
     "iopub.status.busy": "2021-03-15T06:05:28.934821Z",
     "iopub.status.idle": "2021-03-15T06:05:50.607140Z",
     "shell.execute_reply": "2021-03-15T06:05:50.607510Z"
    },
    "papermill": {
     "duration": 21.686991,
     "end_time": "2021-03-15T06:05:50.607659",
     "exception": false,
     "start_time": "2021-03-15T06:05:28.920668",
     "status": "completed"
    },
    "tags": []
   },
   "outputs": [
    {
     "name": "stderr",
     "output_type": "stream",
     "text": [
      "INFO:Herbarium:Train DataFrame Created: ✅\n"
     ]
    },
    {
     "name": "stdout",
     "output_type": "stream",
     "text": [
      "CPU times: user 16.1 s, sys: 1.83 s, total: 17.9 s\n",
      "Wall time: 21.7 s\n"
     ]
    },
    {
     "data": {
      "text/html": [
       "<div>\n",
       "<style scoped>\n",
       "    .dataframe tbody tr th:only-of-type {\n",
       "        vertical-align: middle;\n",
       "    }\n",
       "\n",
       "    .dataframe tbody tr th {\n",
       "        vertical-align: top;\n",
       "    }\n",
       "\n",
       "    .dataframe thead th {\n",
       "        text-align: right;\n",
       "    }\n",
       "</style>\n",
       "<table border=\"1\" class=\"dataframe\">\n",
       "  <thead>\n",
       "    <tr style=\"text-align: right;\">\n",
       "      <th></th>\n",
       "      <th>file_name</th>\n",
       "      <th>height</th>\n",
       "      <th>id</th>\n",
       "      <th>license</th>\n",
       "      <th>width</th>\n",
       "      <th>category_id</th>\n",
       "      <th>institution_id</th>\n",
       "    </tr>\n",
       "  </thead>\n",
       "  <tbody>\n",
       "    <tr>\n",
       "      <th>0</th>\n",
       "      <td>images/604/92/1814367.jpg</td>\n",
       "      <td>1000</td>\n",
       "      <td>1814367</td>\n",
       "      <td>0</td>\n",
       "      <td>678</td>\n",
       "      <td>60492</td>\n",
       "      <td>0</td>\n",
       "    </tr>\n",
       "    <tr>\n",
       "      <th>1</th>\n",
       "      <td>images/108/24/1308257.jpg</td>\n",
       "      <td>1000</td>\n",
       "      <td>1308257</td>\n",
       "      <td>0</td>\n",
       "      <td>666</td>\n",
       "      <td>10824</td>\n",
       "      <td>0</td>\n",
       "    </tr>\n",
       "    <tr>\n",
       "      <th>2</th>\n",
       "      <td>images/330/76/1270453.jpg</td>\n",
       "      <td>1000</td>\n",
       "      <td>1270453</td>\n",
       "      <td>0</td>\n",
       "      <td>739</td>\n",
       "      <td>33076</td>\n",
       "      <td>3</td>\n",
       "    </tr>\n",
       "    <tr>\n",
       "      <th>3</th>\n",
       "      <td>images/247/99/1123834.jpg</td>\n",
       "      <td>1000</td>\n",
       "      <td>1123834</td>\n",
       "      <td>0</td>\n",
       "      <td>672</td>\n",
       "      <td>24799</td>\n",
       "      <td>0</td>\n",
       "    </tr>\n",
       "    <tr>\n",
       "      <th>4</th>\n",
       "      <td>images/170/18/1042410.jpg</td>\n",
       "      <td>1000</td>\n",
       "      <td>1042410</td>\n",
       "      <td>0</td>\n",
       "      <td>675</td>\n",
       "      <td>17018</td>\n",
       "      <td>0</td>\n",
       "    </tr>\n",
       "  </tbody>\n",
       "</table>\n",
       "</div>"
      ],
      "text/plain": [
       "                   file_name  height       id  license  width  category_id  \\\n",
       "0  images/604/92/1814367.jpg    1000  1814367        0    678        60492   \n",
       "1  images/108/24/1308257.jpg    1000  1308257        0    666        10824   \n",
       "2  images/330/76/1270453.jpg    1000  1270453        0    739        33076   \n",
       "3  images/247/99/1123834.jpg    1000  1123834        0    672        24799   \n",
       "4  images/170/18/1042410.jpg    1000  1042410        0    675        17018   \n",
       "\n",
       "   institution_id  \n",
       "0               0  \n",
       "1               0  \n",
       "2               3  \n",
       "3               0  \n",
       "4               0  "
      ]
     },
     "execution_count": 3,
     "metadata": {},
     "output_type": "execute_result"
    }
   ],
   "source": [
    "%%time\n",
    "with open('../input/herbarium-2021-fgvc8/train/metadata.json', \"r\", encoding=\"ISO-8859-1\") as file:\n",
    "    train = json.load(file)\n",
    "\n",
    "train_img = pd.DataFrame(train['images'])\n",
    "train_ann = pd.DataFrame(train['annotations']).drop(columns='image_id')\n",
    "train_df = train_img.merge(train_ann, on='id')\n",
    "LOGGER.info(\"Train DataFrame Created: ✅\")\n",
    "train_df.head()"
   ]
  },
  {
   "cell_type": "code",
   "execution_count": 4,
   "metadata": {
    "execution": {
     "iopub.execute_input": "2021-03-15T06:05:50.634560Z",
     "iopub.status.busy": "2021-03-15T06:05:50.634068Z",
     "iopub.status.idle": "2021-03-15T06:05:52.170779Z",
     "shell.execute_reply": "2021-03-15T06:05:52.171157Z"
    },
    "papermill": {
     "duration": 1.552296,
     "end_time": "2021-03-15T06:05:52.171306",
     "exception": false,
     "start_time": "2021-03-15T06:05:50.619010",
     "status": "completed"
    },
    "tags": []
   },
   "outputs": [
    {
     "name": "stderr",
     "output_type": "stream",
     "text": [
      "INFO:Herbarium:Test DataFrame Created: ✅\n"
     ]
    },
    {
     "name": "stdout",
     "output_type": "stream",
     "text": [
      "CPU times: user 1.19 s, sys: 95.6 ms, total: 1.29 s\n",
      "Wall time: 1.52 s\n"
     ]
    },
    {
     "data": {
      "text/html": [
       "<div>\n",
       "<style scoped>\n",
       "    .dataframe tbody tr th:only-of-type {\n",
       "        vertical-align: middle;\n",
       "    }\n",
       "\n",
       "    .dataframe tbody tr th {\n",
       "        vertical-align: top;\n",
       "    }\n",
       "\n",
       "    .dataframe thead th {\n",
       "        text-align: right;\n",
       "    }\n",
       "</style>\n",
       "<table border=\"1\" class=\"dataframe\">\n",
       "  <thead>\n",
       "    <tr style=\"text-align: right;\">\n",
       "      <th></th>\n",
       "      <th>file_name</th>\n",
       "      <th>height</th>\n",
       "      <th>id</th>\n",
       "      <th>license</th>\n",
       "      <th>width</th>\n",
       "    </tr>\n",
       "  </thead>\n",
       "  <tbody>\n",
       "    <tr>\n",
       "      <th>0</th>\n",
       "      <td>images/000/0.jpg</td>\n",
       "      <td>1000</td>\n",
       "      <td>0</td>\n",
       "      <td>0</td>\n",
       "      <td>680</td>\n",
       "    </tr>\n",
       "    <tr>\n",
       "      <th>1</th>\n",
       "      <td>images/000/1.jpg</td>\n",
       "      <td>1000</td>\n",
       "      <td>1</td>\n",
       "      <td>0</td>\n",
       "      <td>681</td>\n",
       "    </tr>\n",
       "    <tr>\n",
       "      <th>2</th>\n",
       "      <td>images/000/2.jpg</td>\n",
       "      <td>1000</td>\n",
       "      <td>2</td>\n",
       "      <td>0</td>\n",
       "      <td>676</td>\n",
       "    </tr>\n",
       "    <tr>\n",
       "      <th>3</th>\n",
       "      <td>images/000/3.jpg</td>\n",
       "      <td>1000</td>\n",
       "      <td>3</td>\n",
       "      <td>0</td>\n",
       "      <td>666</td>\n",
       "    </tr>\n",
       "    <tr>\n",
       "      <th>4</th>\n",
       "      <td>images/000/4.jpg</td>\n",
       "      <td>1000</td>\n",
       "      <td>4</td>\n",
       "      <td>0</td>\n",
       "      <td>676</td>\n",
       "    </tr>\n",
       "  </tbody>\n",
       "</table>\n",
       "</div>"
      ],
      "text/plain": [
       "          file_name  height  id  license  width\n",
       "0  images/000/0.jpg    1000   0        0    680\n",
       "1  images/000/1.jpg    1000   1        0    681\n",
       "2  images/000/2.jpg    1000   2        0    676\n",
       "3  images/000/3.jpg    1000   3        0    666\n",
       "4  images/000/4.jpg    1000   4        0    676"
      ]
     },
     "execution_count": 4,
     "metadata": {},
     "output_type": "execute_result"
    }
   ],
   "source": [
    "%%time\n",
    "with open('../input/herbarium-2021-fgvc8/test/metadata.json', \"r\", encoding=\"ISO-8859-1\") as file:\n",
    "    test = json.load(file)\n",
    "\n",
    "test_df = pd.DataFrame(test['images'])\n",
    "LOGGER.info(\"Test DataFrame Created: ✅\")\n",
    "test_df.head()"
   ]
  },
  {
   "cell_type": "code",
   "execution_count": 5,
   "metadata": {
    "execution": {
     "iopub.execute_input": "2021-03-15T06:05:52.201164Z",
     "iopub.status.busy": "2021-03-15T06:05:52.200621Z",
     "iopub.status.idle": "2021-03-15T06:05:52.273661Z",
     "shell.execute_reply": "2021-03-15T06:05:52.274097Z"
    },
    "papermill": {
     "duration": 0.090268,
     "end_time": "2021-03-15T06:05:52.274241",
     "exception": false,
     "start_time": "2021-03-15T06:05:52.183973",
     "status": "completed"
    },
    "tags": []
   },
   "outputs": [
    {
     "data": {
      "text/html": [
       "<div>\n",
       "<style scoped>\n",
       "    .dataframe tbody tr th:only-of-type {\n",
       "        vertical-align: middle;\n",
       "    }\n",
       "\n",
       "    .dataframe tbody tr th {\n",
       "        vertical-align: top;\n",
       "    }\n",
       "\n",
       "    .dataframe thead th {\n",
       "        text-align: right;\n",
       "    }\n",
       "</style>\n",
       "<table border=\"1\" class=\"dataframe\">\n",
       "  <thead>\n",
       "    <tr style=\"text-align: right;\">\n",
       "      <th></th>\n",
       "      <th>Id</th>\n",
       "      <th>Predicted</th>\n",
       "    </tr>\n",
       "  </thead>\n",
       "  <tbody>\n",
       "    <tr>\n",
       "      <th>0</th>\n",
       "      <td>0</td>\n",
       "      <td>0</td>\n",
       "    </tr>\n",
       "    <tr>\n",
       "      <th>1</th>\n",
       "      <td>1</td>\n",
       "      <td>0</td>\n",
       "    </tr>\n",
       "    <tr>\n",
       "      <th>2</th>\n",
       "      <td>2</td>\n",
       "      <td>0</td>\n",
       "    </tr>\n",
       "    <tr>\n",
       "      <th>3</th>\n",
       "      <td>3</td>\n",
       "      <td>0</td>\n",
       "    </tr>\n",
       "    <tr>\n",
       "      <th>4</th>\n",
       "      <td>4</td>\n",
       "      <td>0</td>\n",
       "    </tr>\n",
       "  </tbody>\n",
       "</table>\n",
       "</div>"
      ],
      "text/plain": [
       "   Id  Predicted\n",
       "0   0          0\n",
       "1   1          0\n",
       "2   2          0\n",
       "3   3          0\n",
       "4   4          0"
      ]
     },
     "execution_count": 5,
     "metadata": {},
     "output_type": "execute_result"
    }
   ],
   "source": [
    "sample_submission = pd.read_csv('../input/herbarium-2021-fgvc8/sample_submission.csv')\n",
    "sample_submission.head()"
   ]
  },
  {
   "cell_type": "markdown",
   "metadata": {
    "papermill": {
     "duration": 0.012508,
     "end_time": "2021-03-15T06:05:52.299747",
     "exception": false,
     "start_time": "2021-03-15T06:05:52.287239",
     "status": "completed"
    },
    "tags": []
   },
   "source": [
    "<a id = \"label\"></a>\n",
    "\n",
    "# 🏷 Label Encoder\n",
    "\n",
    "We use the `LabelEncoder` from sklearn.preprocessing in order to encode target labels with value between `0` and `n_classes-1`."
   ]
  },
  {
   "cell_type": "code",
   "execution_count": 6,
   "metadata": {
    "execution": {
     "iopub.execute_input": "2021-03-15T06:05:52.330610Z",
     "iopub.status.busy": "2021-03-15T06:05:52.330078Z",
     "iopub.status.idle": "2021-03-15T06:06:01.913835Z",
     "shell.execute_reply": "2021-03-15T06:06:01.913309Z"
    },
    "papermill": {
     "duration": 9.601388,
     "end_time": "2021-03-15T06:06:01.913987",
     "exception": false,
     "start_time": "2021-03-15T06:05:52.312599",
     "status": "completed"
    },
    "tags": []
   },
   "outputs": [
    {
     "name": "stderr",
     "output_type": "stream",
     "text": [
      "INFO:Herbarium:LabelEncoder Instance created ✅\n",
      "INFO:Herbarium:Fitting the LabelEncoder Instance\n",
      "INFO:Herbarium:Converting Labels to Normalized Encoding\n"
     ]
    }
   ],
   "source": [
    "# Create a Instance of LabelEncoder\n",
    "le = preprocessing.LabelEncoder()\n",
    "LOGGER.info(\"LabelEncoder Instance created ✅\")\n",
    "\n",
    "# Fits the label encoder instance\n",
    "LOGGER.info(\"Fitting the LabelEncoder Instance\")\n",
    "le.fit(train_df['category_id'])\n",
    "\n",
    "# To Transform labels to normalized encoding\n",
    "LOGGER.info(\"Converting Labels to Normalized Encoding\")\n",
    "train_df['category_id_le'] = le.transform(train_df['category_id'])\n",
    "class_map = dict(sorted(train_df[['category_id_le', 'category_id']].values.tolist()))"
   ]
  },
  {
   "cell_type": "markdown",
   "metadata": {
    "papermill": {
     "duration": 0.014562,
     "end_time": "2021-03-15T06:06:01.943034",
     "exception": false,
     "start_time": "2021-03-15T06:06:01.928472",
     "status": "completed"
    },
    "tags": []
   },
   "source": [
    "<a id = \"data\"></a>\n",
    "# 💿 Dataset and DataLoader \n",
    "\n",
    "The following code cell aims to convert the Herbarium dataset into a torch `torch.utils.data.Dataset` object.\n",
    "\n",
    "All Dataset objects in pytorch represent a map from keys to data samples. We create a subclass which overwrites the **getitem()** and **len()** to method (for it to work well with the `torch.utils.data.DataLoader`).\n",
    "\n",
    "In the **getitem()** method, we use df[].values[] to get the file_nameand then use cv2 to read the image. If the transform bool is set to True, we apply the transforms.\n",
    "\n",
    "Each element of our dataset returns:\n",
    "\n",
    "* Image"
   ]
  },
  {
   "cell_type": "code",
   "execution_count": 7,
   "metadata": {
    "execution": {
     "iopub.execute_input": "2021-03-15T06:06:01.977190Z",
     "iopub.status.busy": "2021-03-15T06:06:01.976483Z",
     "iopub.status.idle": "2021-03-15T06:06:01.979157Z",
     "shell.execute_reply": "2021-03-15T06:06:01.979537Z"
    },
    "papermill": {
     "duration": 0.022874,
     "end_time": "2021-03-15T06:06:01.979668",
     "exception": false,
     "start_time": "2021-03-15T06:06:01.956794",
     "status": "completed"
    },
    "tags": []
   },
   "outputs": [],
   "source": [
    "class TestDataset(torch.utils.data.Dataset):\n",
    "    \"\"\"\n",
    "    Custom Dataset Class\n",
    "    \"\"\"\n",
    "    def __init__(self, df, transform=None):\n",
    "        self.df = df\n",
    "        self.transform = transform\n",
    "        \n",
    "    def __len__(self) -> int:\n",
    "        return len(self.df)\n",
    "\n",
    "    def __getitem__(self, idx):\n",
    "        file_name = self.df['file_name'].values[idx]\n",
    "        file_path = f'../input/herbarium-2021-fgvc8/test/{file_name}'\n",
    "        image = cv2.imread(file_path)\n",
    "        image = cv2.cvtColor(image, cv2.COLOR_BGR2RGB)\n",
    "        \n",
    "        if self.transform:\n",
    "            augmented = self.transform(image=image)\n",
    "            image = augmented['image']\n",
    "        \n",
    "        return image"
   ]
  },
  {
   "cell_type": "markdown",
   "metadata": {
    "papermill": {
     "duration": 0.013792,
     "end_time": "2021-03-15T06:06:02.007145",
     "exception": false,
     "start_time": "2021-03-15T06:06:01.993353",
     "status": "completed"
    },
    "tags": []
   },
   "source": [
    "## Image Augmentation:🌆 -> 🌇\n",
    "\n",
    "Applying Standard Image Augmentation Techniques, such as `Resize`, `Normalize` and conversion to `torch.Tensor`"
   ]
  },
  {
   "cell_type": "code",
   "execution_count": 8,
   "metadata": {
    "execution": {
     "iopub.execute_input": "2021-03-15T06:06:02.039113Z",
     "iopub.status.busy": "2021-03-15T06:06:02.038441Z",
     "iopub.status.idle": "2021-03-15T06:06:02.040934Z",
     "shell.execute_reply": "2021-03-15T06:06:02.041313Z"
    },
    "papermill": {
     "duration": 0.020538,
     "end_time": "2021-03-15T06:06:02.041436",
     "exception": false,
     "start_time": "2021-03-15T06:06:02.020898",
     "status": "completed"
    },
    "tags": []
   },
   "outputs": [],
   "source": [
    "def get_transforms():\n",
    "\n",
    "    return albumentations.Compose([\n",
    "        albumentations.Resize(HEIGHT, WIDTH),\n",
    "        albumentations.Normalize(\n",
    "            mean=[0.485, 0.456, 0.406],\n",
    "            std=[0.229, 0.224, 0.225],\n",
    "        ),\n",
    "        ToTensorV2(),\n",
    "    ])"
   ]
  },
  {
   "cell_type": "code",
   "execution_count": 9,
   "metadata": {
    "execution": {
     "iopub.execute_input": "2021-03-15T06:06:02.074134Z",
     "iopub.status.busy": "2021-03-15T06:06:02.073299Z",
     "iopub.status.idle": "2021-03-15T06:06:02.079759Z",
     "shell.execute_reply": "2021-03-15T06:06:02.080124Z"
    },
    "papermill": {
     "duration": 0.025221,
     "end_time": "2021-03-15T06:06:02.080246",
     "exception": false,
     "start_time": "2021-03-15T06:06:02.055025",
     "status": "completed"
    },
    "tags": []
   },
   "outputs": [
    {
     "name": "stderr",
     "output_type": "stream",
     "text": [
      "INFO:Herbarium:Test Dataset Object Created ✅\n",
      "INFO:Herbarium:Creating Test DataLoader\n",
      "INFO:Herbarium:Test DataLoader created\n"
     ]
    }
   ],
   "source": [
    "# Create Test Dataset\n",
    "test_dataset = TestDataset(test_df, transform=get_transforms())\n",
    "LOGGER.info(\"Test Dataset Object Created ✅\")\n",
    "\n",
    "# Create Test DataLoader\n",
    "LOGGER.info(\"Creating Test DataLoader\")\n",
    "test_loader = torch.utils.data.DataLoader(test_dataset, batch_size=batch_size, shuffle=False)\n",
    "LOGGER.info(\"Test DataLoader created\")"
   ]
  },
  {
   "cell_type": "markdown",
   "metadata": {
    "papermill": {
     "duration": 0.014341,
     "end_time": "2021-03-15T06:06:02.109137",
     "exception": false,
     "start_time": "2021-03-15T06:06:02.094796",
     "status": "completed"
    },
    "tags": []
   },
   "source": [
    "# The Model 👷‍♀️\n",
    "\n",
    "---\n",
    "\n",
    "### Transfer Learning\n",
    "\n",
    "The main aim of transfer learning (TL) is to implement a model quickly i.e. instead of creating a DNN (dense neural network) from scratch, the model will transfer the features it has learned from the different dataset that has performed the same task. This transaction is also known as knowledge transfer.\n",
    "\n",
    "### Resnet18\n",
    "\n",
    "A residual network, or ResNet for short, is a DNN that helps to build deeper neural networks by utilizing skip connections or shortcuts to jump over some layers. This helps solve the problem of **vanishing gradients**.\n",
    "\n",
    "There are different versions of ResNet, including ResNet-18, ResNet-34, ResNet-50, and so on. The numbers denote layers, although the architecture is the same.\n",
    "\n",
    "![](https://i.imgur.com/XwcnU5x.png)\n",
    "\n",
    "In the end, we just add a Adaptive Pooling Layer and a Fully Connected Layer with output dimensions equal to the number of classes and load the weights from the Training Kernel"
   ]
  },
  {
   "cell_type": "code",
   "execution_count": 10,
   "metadata": {
    "execution": {
     "iopub.execute_input": "2021-03-15T06:06:02.143726Z",
     "iopub.status.busy": "2021-03-15T06:06:02.143200Z",
     "iopub.status.idle": "2021-03-15T06:06:13.108502Z",
     "shell.execute_reply": "2021-03-15T06:06:13.108066Z"
    },
    "papermill": {
     "duration": 10.984915,
     "end_time": "2021-03-15T06:06:13.108630",
     "exception": false,
     "start_time": "2021-03-15T06:06:02.123715",
     "status": "completed"
    },
    "tags": []
   },
   "outputs": [
    {
     "name": "stderr",
     "output_type": "stream",
     "text": [
      "INFO:Herbarium:Model Created ✅\n",
      "INFO:Herbarium:Loading Weights\n",
      "INFO:Herbarium:Weights Loaded ✅\n"
     ]
    }
   ],
   "source": [
    "%%capture\n",
    "# Creating a instance of a Resnet18 pretrained Model\n",
    "model = torchvision.models.resnet18(pretrained=True)\n",
    "\n",
    "# Add a Adaptive Average Pooling Layer\n",
    "model.avgpool = torch.nn.AdaptiveAvgPool2d(1)\n",
    "\n",
    "# Add a Fully connected Layer with N_CLASSES as the output dimension\n",
    "model.fc = torch.nn.Linear(model.fc.in_features, N_CLASSES)\n",
    "\n",
    "LOGGER.info(\"Model Created ✅\")\n",
    "\n",
    "weights_path = '../input/herbarium-2021-pytorch-weights/fold0_best_score.pth'\n",
    "\n",
    "LOGGER.info(\"Loading Weights\")\n",
    "model.load_state_dict(torch.load(weights_path))\n",
    "LOGGER.info(\"Weights Loaded ✅\")"
   ]
  },
  {
   "cell_type": "markdown",
   "metadata": {
    "papermill": {
     "duration": 0.015552,
     "end_time": "2021-03-15T06:06:13.140111",
     "exception": false,
     "start_time": "2021-03-15T06:06:13.124559",
     "status": "completed"
    },
    "tags": []
   },
   "source": [
    "<a id = \"infer\"></a>\n",
    "# Inference 💪🏻\n",
    "\n",
    "looping over our data iterator, and feed the inputs to the network"
   ]
  },
  {
   "cell_type": "code",
   "execution_count": 11,
   "metadata": {
    "execution": {
     "iopub.execute_input": "2021-03-15T06:06:13.179259Z",
     "iopub.status.busy": "2021-03-15T06:06:13.177342Z",
     "iopub.status.idle": "2021-03-15T07:19:51.369075Z",
     "shell.execute_reply": "2021-03-15T07:19:51.370006Z"
    },
    "papermill": {
     "duration": 4418.21456,
     "end_time": "2021-03-15T07:19:51.370195",
     "exception": false,
     "start_time": "2021-03-15T06:06:13.155635",
     "status": "completed"
    },
    "tags": []
   },
   "outputs": [
    {
     "name": "stderr",
     "output_type": "stream",
     "text": [
      "475it [1:13:38,  9.30s/it]\n"
     ]
    }
   ],
   "source": [
    "model.to(device) \n",
    "    \n",
    "preds = np.zeros((len(test_dataset)))\n",
    "\n",
    "for i, images in tqdm(enumerate(test_loader)):\n",
    "            \n",
    "    images = images.to(device)\n",
    "            \n",
    "    with torch.no_grad():\n",
    "        y_preds = model(images)\n",
    "            \n",
    "    preds[i * batch_size: (i+1) * batch_size] = y_preds.argmax(1).to('cpu').numpy()"
   ]
  },
  {
   "cell_type": "markdown",
   "metadata": {
    "papermill": {
     "duration": 0.135367,
     "end_time": "2021-03-15T07:19:51.641475",
     "exception": false,
     "start_time": "2021-03-15T07:19:51.506108",
     "status": "completed"
    },
    "tags": []
   },
   "source": [
    "# Submit"
   ]
  },
  {
   "cell_type": "code",
   "execution_count": 12,
   "metadata": {
    "execution": {
     "iopub.execute_input": "2021-03-15T07:19:51.918880Z",
     "iopub.status.busy": "2021-03-15T07:19:51.918046Z",
     "iopub.status.idle": "2021-03-15T07:19:53.058579Z",
     "shell.execute_reply": "2021-03-15T07:19:53.058152Z"
    },
    "papermill": {
     "duration": 1.281114,
     "end_time": "2021-03-15T07:19:53.058750",
     "exception": false,
     "start_time": "2021-03-15T07:19:51.777636",
     "status": "completed"
    },
    "tags": []
   },
   "outputs": [
    {
     "data": {
      "text/html": [
       "<div>\n",
       "<style scoped>\n",
       "    .dataframe tbody tr th:only-of-type {\n",
       "        vertical-align: middle;\n",
       "    }\n",
       "\n",
       "    .dataframe tbody tr th {\n",
       "        vertical-align: top;\n",
       "    }\n",
       "\n",
       "    .dataframe thead th {\n",
       "        text-align: right;\n",
       "    }\n",
       "</style>\n",
       "<table border=\"1\" class=\"dataframe\">\n",
       "  <thead>\n",
       "    <tr style=\"text-align: right;\">\n",
       "      <th></th>\n",
       "      <th>Id</th>\n",
       "      <th>Predicted</th>\n",
       "    </tr>\n",
       "  </thead>\n",
       "  <tbody>\n",
       "    <tr>\n",
       "      <th>0</th>\n",
       "      <td>0</td>\n",
       "      <td>45246</td>\n",
       "    </tr>\n",
       "    <tr>\n",
       "      <th>1</th>\n",
       "      <td>1</td>\n",
       "      <td>47386</td>\n",
       "    </tr>\n",
       "    <tr>\n",
       "      <th>2</th>\n",
       "      <td>2</td>\n",
       "      <td>35602</td>\n",
       "    </tr>\n",
       "    <tr>\n",
       "      <th>3</th>\n",
       "      <td>3</td>\n",
       "      <td>38896</td>\n",
       "    </tr>\n",
       "    <tr>\n",
       "      <th>4</th>\n",
       "      <td>4</td>\n",
       "      <td>4731</td>\n",
       "    </tr>\n",
       "  </tbody>\n",
       "</table>\n",
       "</div>"
      ],
      "text/plain": [
       "   Id  Predicted\n",
       "0   0      45246\n",
       "1   1      47386\n",
       "2   2      35602\n",
       "3   3      38896\n",
       "4   4       4731"
      ]
     },
     "execution_count": 12,
     "metadata": {},
     "output_type": "execute_result"
    }
   ],
   "source": [
    "test_df['preds'] = preds.astype(int)\n",
    "submission = sample_submission.merge(test_df.rename(columns={'id': 'Id'})[['Id', 'preds']], on='Id').drop(columns='Predicted')\n",
    "submission['Predicted'] = submission['preds'].map(class_map)\n",
    "submission = submission.drop(columns='preds')\n",
    "submission.to_csv('submission.csv', index=False)\n",
    "submission.head()"
   ]
  }
 ],
 "metadata": {
  "kernelspec": {
   "display_name": "Python 3",
   "language": "python",
   "name": "python3"
  },
  "language_info": {
   "codemirror_mode": {
    "name": "ipython",
    "version": 3
   },
   "file_extension": ".py",
   "mimetype": "text/x-python",
   "name": "python",
   "nbconvert_exporter": "python",
   "pygments_lexer": "ipython3",
   "version": "3.7.9"
  },
  "papermill": {
   "default_parameters": {},
   "duration": 4475.782516,
   "end_time": "2021-03-15T07:19:56.346765",
   "environment_variables": {},
   "exception": null,
   "input_path": "__notebook__.ipynb",
   "output_path": "__notebook__.ipynb",
   "parameters": {},
   "start_time": "2021-03-15T06:05:20.564249",
   "version": "2.2.2"
  },
  "widgets": {
   "application/vnd.jupyter.widget-state+json": {
    "state": {
     "07ea03fe57c54dd6a719bb897be2b08b": {
      "model_module": "@jupyter-widgets/controls",
      "model_module_version": "1.5.0",
      "model_name": "ProgressStyleModel",
      "state": {
       "_model_module": "@jupyter-widgets/controls",
       "_model_module_version": "1.5.0",
       "_model_name": "ProgressStyleModel",
       "_view_count": null,
       "_view_module": "@jupyter-widgets/base",
       "_view_module_version": "1.2.0",
       "_view_name": "StyleView",
       "bar_color": null,
       "description_width": ""
      }
     },
     "213429040802473bbf902ec72e29cc07": {
      "model_module": "@jupyter-widgets/controls",
      "model_module_version": "1.5.0",
      "model_name": "HTMLModel",
      "state": {
       "_dom_classes": [],
       "_model_module": "@jupyter-widgets/controls",
       "_model_module_version": "1.5.0",
       "_model_name": "HTMLModel",
       "_view_count": null,
       "_view_module": "@jupyter-widgets/controls",
       "_view_module_version": "1.5.0",
       "_view_name": "HTMLView",
       "description": "",
       "description_tooltip": null,
       "layout": "IPY_MODEL_25b1807c11424f2bbaacf06e634935a8",
       "placeholder": "​",
       "style": "IPY_MODEL_2738d1d7dcf64928813bdc6e8afd4448",
       "value": "100%"
      }
     },
     "25b1807c11424f2bbaacf06e634935a8": {
      "model_module": "@jupyter-widgets/base",
      "model_module_version": "1.2.0",
      "model_name": "LayoutModel",
      "state": {
       "_model_module": "@jupyter-widgets/base",
       "_model_module_version": "1.2.0",
       "_model_name": "LayoutModel",
       "_view_count": null,
       "_view_module": "@jupyter-widgets/base",
       "_view_module_version": "1.2.0",
       "_view_name": "LayoutView",
       "align_content": null,
       "align_items": null,
       "align_self": null,
       "border": null,
       "bottom": null,
       "display": null,
       "flex": null,
       "flex_flow": null,
       "grid_area": null,
       "grid_auto_columns": null,
       "grid_auto_flow": null,
       "grid_auto_rows": null,
       "grid_column": null,
       "grid_gap": null,
       "grid_row": null,
       "grid_template_areas": null,
       "grid_template_columns": null,
       "grid_template_rows": null,
       "height": null,
       "justify_content": null,
       "justify_items": null,
       "left": null,
       "margin": null,
       "max_height": null,
       "max_width": null,
       "min_height": null,
       "min_width": null,
       "object_fit": null,
       "object_position": null,
       "order": null,
       "overflow": null,
       "overflow_x": null,
       "overflow_y": null,
       "padding": null,
       "right": null,
       "top": null,
       "visibility": null,
       "width": null
      }
     },
     "2738d1d7dcf64928813bdc6e8afd4448": {
      "model_module": "@jupyter-widgets/controls",
      "model_module_version": "1.5.0",
      "model_name": "DescriptionStyleModel",
      "state": {
       "_model_module": "@jupyter-widgets/controls",
       "_model_module_version": "1.5.0",
       "_model_name": "DescriptionStyleModel",
       "_view_count": null,
       "_view_module": "@jupyter-widgets/base",
       "_view_module_version": "1.2.0",
       "_view_name": "StyleView",
       "description_width": ""
      }
     },
     "2c4ab2c839dc434baf7c6cc77c8d153a": {
      "model_module": "@jupyter-widgets/controls",
      "model_module_version": "1.5.0",
      "model_name": "DescriptionStyleModel",
      "state": {
       "_model_module": "@jupyter-widgets/controls",
       "_model_module_version": "1.5.0",
       "_model_name": "DescriptionStyleModel",
       "_view_count": null,
       "_view_module": "@jupyter-widgets/base",
       "_view_module_version": "1.2.0",
       "_view_name": "StyleView",
       "description_width": ""
      }
     },
     "362dcb9cdaa54397a70cbd11fca85b78": {
      "model_module": "@jupyter-widgets/controls",
      "model_module_version": "1.5.0",
      "model_name": "HBoxModel",
      "state": {
       "_dom_classes": [],
       "_model_module": "@jupyter-widgets/controls",
       "_model_module_version": "1.5.0",
       "_model_name": "HBoxModel",
       "_view_count": null,
       "_view_module": "@jupyter-widgets/controls",
       "_view_module_version": "1.5.0",
       "_view_name": "HBoxView",
       "box_style": "",
       "children": [
        "IPY_MODEL_213429040802473bbf902ec72e29cc07",
        "IPY_MODEL_ad0956048e1241d2aea4b06daf03619c",
        "IPY_MODEL_f17ab47010a146b59ed2ee2904b47a30"
       ],
       "layout": "IPY_MODEL_88fde80879394dbb828be88d6244359d"
      }
     },
     "88fde80879394dbb828be88d6244359d": {
      "model_module": "@jupyter-widgets/base",
      "model_module_version": "1.2.0",
      "model_name": "LayoutModel",
      "state": {
       "_model_module": "@jupyter-widgets/base",
       "_model_module_version": "1.2.0",
       "_model_name": "LayoutModel",
       "_view_count": null,
       "_view_module": "@jupyter-widgets/base",
       "_view_module_version": "1.2.0",
       "_view_name": "LayoutView",
       "align_content": null,
       "align_items": null,
       "align_self": null,
       "border": null,
       "bottom": null,
       "display": null,
       "flex": null,
       "flex_flow": null,
       "grid_area": null,
       "grid_auto_columns": null,
       "grid_auto_flow": null,
       "grid_auto_rows": null,
       "grid_column": null,
       "grid_gap": null,
       "grid_row": null,
       "grid_template_areas": null,
       "grid_template_columns": null,
       "grid_template_rows": null,
       "height": null,
       "justify_content": null,
       "justify_items": null,
       "left": null,
       "margin": null,
       "max_height": null,
       "max_width": null,
       "min_height": null,
       "min_width": null,
       "object_fit": null,
       "object_position": null,
       "order": null,
       "overflow": null,
       "overflow_x": null,
       "overflow_y": null,
       "padding": null,
       "right": null,
       "top": null,
       "visibility": null,
       "width": null
      }
     },
     "ad0956048e1241d2aea4b06daf03619c": {
      "model_module": "@jupyter-widgets/controls",
      "model_module_version": "1.5.0",
      "model_name": "FloatProgressModel",
      "state": {
       "_dom_classes": [],
       "_model_module": "@jupyter-widgets/controls",
       "_model_module_version": "1.5.0",
       "_model_name": "FloatProgressModel",
       "_view_count": null,
       "_view_module": "@jupyter-widgets/controls",
       "_view_module_version": "1.5.0",
       "_view_name": "ProgressView",
       "bar_style": "success",
       "description": "",
       "description_tooltip": null,
       "layout": "IPY_MODEL_d3036ba3ca9b4bc885fee4cc5b066fdf",
       "max": 46827520.0,
       "min": 0.0,
       "orientation": "horizontal",
       "style": "IPY_MODEL_07ea03fe57c54dd6a719bb897be2b08b",
       "value": 46827520.0
      }
     },
     "d3036ba3ca9b4bc885fee4cc5b066fdf": {
      "model_module": "@jupyter-widgets/base",
      "model_module_version": "1.2.0",
      "model_name": "LayoutModel",
      "state": {
       "_model_module": "@jupyter-widgets/base",
       "_model_module_version": "1.2.0",
       "_model_name": "LayoutModel",
       "_view_count": null,
       "_view_module": "@jupyter-widgets/base",
       "_view_module_version": "1.2.0",
       "_view_name": "LayoutView",
       "align_content": null,
       "align_items": null,
       "align_self": null,
       "border": null,
       "bottom": null,
       "display": null,
       "flex": null,
       "flex_flow": null,
       "grid_area": null,
       "grid_auto_columns": null,
       "grid_auto_flow": null,
       "grid_auto_rows": null,
       "grid_column": null,
       "grid_gap": null,
       "grid_row": null,
       "grid_template_areas": null,
       "grid_template_columns": null,
       "grid_template_rows": null,
       "height": null,
       "justify_content": null,
       "justify_items": null,
       "left": null,
       "margin": null,
       "max_height": null,
       "max_width": null,
       "min_height": null,
       "min_width": null,
       "object_fit": null,
       "object_position": null,
       "order": null,
       "overflow": null,
       "overflow_x": null,
       "overflow_y": null,
       "padding": null,
       "right": null,
       "top": null,
       "visibility": null,
       "width": null
      }
     },
     "f17ab47010a146b59ed2ee2904b47a30": {
      "model_module": "@jupyter-widgets/controls",
      "model_module_version": "1.5.0",
      "model_name": "HTMLModel",
      "state": {
       "_dom_classes": [],
       "_model_module": "@jupyter-widgets/controls",
       "_model_module_version": "1.5.0",
       "_model_name": "HTMLModel",
       "_view_count": null,
       "_view_module": "@jupyter-widgets/controls",
       "_view_module_version": "1.5.0",
       "_view_name": "HTMLView",
       "description": "",
       "description_tooltip": null,
       "layout": "IPY_MODEL_f2235206f10543b58f5b0b2948faa8f6",
       "placeholder": "​",
       "style": "IPY_MODEL_2c4ab2c839dc434baf7c6cc77c8d153a",
       "value": " 44.7M/44.7M [00:02&lt;00:00, 22.3MB/s]"
      }
     },
     "f2235206f10543b58f5b0b2948faa8f6": {
      "model_module": "@jupyter-widgets/base",
      "model_module_version": "1.2.0",
      "model_name": "LayoutModel",
      "state": {
       "_model_module": "@jupyter-widgets/base",
       "_model_module_version": "1.2.0",
       "_model_name": "LayoutModel",
       "_view_count": null,
       "_view_module": "@jupyter-widgets/base",
       "_view_module_version": "1.2.0",
       "_view_name": "LayoutView",
       "align_content": null,
       "align_items": null,
       "align_self": null,
       "border": null,
       "bottom": null,
       "display": null,
       "flex": null,
       "flex_flow": null,
       "grid_area": null,
       "grid_auto_columns": null,
       "grid_auto_flow": null,
       "grid_auto_rows": null,
       "grid_column": null,
       "grid_gap": null,
       "grid_row": null,
       "grid_template_areas": null,
       "grid_template_columns": null,
       "grid_template_rows": null,
       "height": null,
       "justify_content": null,
       "justify_items": null,
       "left": null,
       "margin": null,
       "max_height": null,
       "max_width": null,
       "min_height": null,
       "min_width": null,
       "object_fit": null,
       "object_position": null,
       "order": null,
       "overflow": null,
       "overflow_x": null,
       "overflow_y": null,
       "padding": null,
       "right": null,
       "top": null,
       "visibility": null,
       "width": null
      }
     }
    },
    "version_major": 2,
    "version_minor": 0
   }
  }
 },
 "nbformat": 4,
 "nbformat_minor": 4
}
