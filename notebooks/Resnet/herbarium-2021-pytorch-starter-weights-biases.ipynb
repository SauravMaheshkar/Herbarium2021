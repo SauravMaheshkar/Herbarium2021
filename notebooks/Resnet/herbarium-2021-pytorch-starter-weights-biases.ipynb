{
 "cells": [
  {
   "cell_type": "markdown",
   "metadata": {
    "papermill": {
     "duration": 0.014289,
     "end_time": "2021-03-14T07:52:34.455145",
     "exception": false,
     "start_time": "2021-03-14T07:52:34.440856",
     "status": "completed"
    },
    "tags": []
   },
   "source": [
    "The Herbarium 2021: Half-Earth Challenge is to identify vascular plant specimens provided by the New York Botanical Garden (NY), Bishop Museum (BPBM), Naturalis Biodiversity Center (NL), Queensland Herbarium (BRI), and Auckland War Memorial Museum (AK).\n",
    "\n",
    "The Herbarium 2021: Half-Earth Challenge dataset includes more than 2.5M images representing nearly 65,000 species from the Americas and Oceania that have been aligned to a standardized plant list (LCVP v1.0.2)."
   ]
  },
  {
   "cell_type": "markdown",
   "metadata": {
    "papermill": {
     "duration": 0.012798,
     "end_time": "2021-03-14T07:52:34.481229",
     "exception": false,
     "start_time": "2021-03-14T07:52:34.468431",
     "status": "completed"
    },
    "tags": []
   },
   "source": [
    "## Disclaimer\n",
    "\n",
    "This kernel is heavily inspired from [@yasufuminakama](https://www.kaggle.com/yasufuminakama)'s kernel from last year's competition [Herbarium 2020 PyTorch Resnet18 [train]](https://www.kaggle.com/yasufuminakama/herbarium-2020-pytorch-resnet18-train)"
   ]
  },
  {
   "cell_type": "markdown",
   "metadata": {
    "papermill": {
     "duration": 0.012818,
     "end_time": "2021-03-14T07:52:34.506892",
     "exception": false,
     "start_time": "2021-03-14T07:52:34.494074",
     "status": "completed"
    },
    "tags": []
   },
   "source": [
    "# Table of Content\n",
    "\n",
    "1. [Packages 📦 and Basic Setup](#packages)\n",
    "2. [🏷 Label Encoder](#label-encoder)\n",
    "3. [💿 Dataset, DataLoader and K-Fold](#data)\n",
    "4. [The Model 👷‍♀️](#Model)\n",
    "5. [Training 💪🏻](#Training)"
   ]
  },
  {
   "cell_type": "markdown",
   "metadata": {
    "papermill": {
     "duration": 0.012867,
     "end_time": "2021-03-14T07:52:34.532943",
     "exception": false,
     "start_time": "2021-03-14T07:52:34.520076",
     "status": "completed"
    },
    "tags": []
   },
   "source": [
    "<a id = \"packages\"></a>\n",
    "# Packages 📦 and Basic Setup\n",
    "\n",
    "In the following **hidden** code cell, we: \n",
    "\n",
    "* Import the required libraries (Main ones being [`torch`](https://pytorch.org/), [`torchvision`](https://pytorch.org/vision/0.8/index.html) and [`sklearn`](https://scikit-learn.org/stable/index.html))\n",
    "* Print the device configuration\n",
    "* Set Random Seed 🌱 to ensure reproducibility\n",
    "* Create a [Logger 📃](https://docs.python.org/3/library/logging.html) for Event Logging"
   ]
  },
  {
   "cell_type": "code",
   "execution_count": 1,
   "metadata": {
    "_kg_hide-input": true,
    "_kg_hide-output": true,
    "execution": {
     "iopub.execute_input": "2021-03-14T07:52:34.565458Z",
     "iopub.status.busy": "2021-03-14T07:52:34.564900Z",
     "iopub.status.idle": "2021-03-14T07:52:48.081582Z",
     "shell.execute_reply": "2021-03-14T07:52:48.080495Z"
    },
    "papermill": {
     "duration": 13.53583,
     "end_time": "2021-03-14T07:52:48.081802",
     "exception": false,
     "start_time": "2021-03-14T07:52:34.545972",
     "status": "completed"
    },
    "tags": []
   },
   "outputs": [],
   "source": [
    "%%capture\n",
    "!pip install --upgrade wandb"
   ]
  },
  {
   "cell_type": "code",
   "execution_count": 2,
   "metadata": {
    "_cell_guid": "b1076dfc-b9ad-4769-8c92-a6c4dae69d19",
    "_kg_hide-input": true,
    "_uuid": "8f2839f25d086af736a60e9eeb907d3b93b6e0e5",
    "execution": {
     "iopub.execute_input": "2021-03-14T07:52:48.120871Z",
     "iopub.status.busy": "2021-03-14T07:52:48.120054Z",
     "iopub.status.idle": "2021-03-14T07:53:02.015242Z",
     "shell.execute_reply": "2021-03-14T07:53:02.016320Z"
    },
    "papermill": {
     "duration": 13.920322,
     "end_time": "2021-03-14T07:53:02.016548",
     "exception": false,
     "start_time": "2021-03-14T07:52:48.096226",
     "status": "completed"
    },
    "tags": []
   },
   "outputs": [
    {
     "name": "stderr",
     "output_type": "stream",
     "text": [
      "INFO:Herbarium:Logger Initialized\n",
      "\u001b[34m\u001b[1mwandb\u001b[0m: W&B API key is configured (use `wandb login --relogin` to force relogin)\n",
      "\u001b[34m\u001b[1mwandb\u001b[0m: \u001b[33mWARNING\u001b[0m If you're specifying your api key in code, ensure this code is not shared publically.\n",
      "\u001b[34m\u001b[1mwandb\u001b[0m: \u001b[33mWARNING\u001b[0m Consider setting the WANDB_API_KEY environment variable, or running `wandb login` from the command line.\n",
      "\u001b[34m\u001b[1mwandb\u001b[0m: Appending key for api.wandb.ai to your netrc file: /root/.netrc\n",
      "INFO:Herbarium:Logged into Weights and Biases\n",
      "\u001b[34m\u001b[1mwandb\u001b[0m: Currently logged in as: \u001b[33msauravmaheshkar\u001b[0m (use `wandb login --relogin` to force relogin)\n"
     ]
    },
    {
     "data": {
      "text/html": [
       "\n",
       "                Tracking run with wandb version 0.10.22<br/>\n",
       "                Syncing run <strong style=\"color:#cdcd00\">blueberry-strudel-5</strong> to <a href=\"https://wandb.ai\" target=\"_blank\">Weights & Biases</a> <a href=\"https://docs.wandb.com/integrations/jupyter.html\" target=\"_blank\">(Documentation)</a>.<br/>\n",
       "                Project page: <a href=\"https://wandb.ai/sauravmaheshkar/Herbarium%202021\" target=\"_blank\">https://wandb.ai/sauravmaheshkar/Herbarium%202021</a><br/>\n",
       "                Run page: <a href=\"https://wandb.ai/sauravmaheshkar/Herbarium%202021/runs/33le9ska\" target=\"_blank\">https://wandb.ai/sauravmaheshkar/Herbarium%202021/runs/33le9ska</a><br/>\n",
       "                Run data is saved locally in <code>/kaggle/working/wandb/run-20210314_075255-33le9ska</code><br/><br/>\n",
       "            "
      ],
      "text/plain": [
       "<IPython.core.display.HTML object>"
      ]
     },
     "metadata": {},
     "output_type": "display_data"
    },
    {
     "name": "stderr",
     "output_type": "stream",
     "text": [
      "INFO:Herbarium:New run Created\n"
     ]
    }
   ],
   "source": [
    "# Import Statements\n",
    "import os # To set Random Seed for Reproducibility\n",
    "import cv2 # For Image 🌌 Processing\n",
    "import json # For Reading in the JSON file\n",
    "import torch # The Main Machine Learning Framework\n",
    "import random # To set Random Seed for Reproducibility\n",
    "import logging # For Event Logging\n",
    "import sklearn # For LabelEncoder and Metrics\n",
    "import torchvision # For creating a pretrained model\n",
    "import numpy as np # For Numerical Processing\n",
    "import pandas as pd # For creating DataFrames \n",
    "import albumentations # For Image Augmentations\n",
    "from tqdm import tqdm # For Creating ProgressBar\n",
    "from sklearn import preprocessing # For the 🏷 Label Encoder\n",
    "from albumentations.pytorch import ToTensorV2 # For Converting to torch.Tensor\n",
    "from sklearn.model_selection import StratifiedKFold # For Cross Validation\n",
    "\n",
    "\n",
    "# Device Configuration\n",
    "device = torch.device('cuda' if torch.cuda.is_available() else 'cpu')\n",
    "device\n",
    "\n",
    "# Setting RandomSeed🌱 for Reproducibility \n",
    "def seed_torch(seed:int =42):\n",
    "    random.seed(seed)\n",
    "    os.environ['PYTHONHASHSEED'] = str(seed)\n",
    "    np.random.seed(seed)\n",
    "    torch.manual_seed(seed)\n",
    "    torch.cuda.manual_seed(seed)\n",
    "    torch.backends.cudnn.deterministic = True\n",
    "\n",
    "seed_torch()\n",
    "\n",
    "# Creating a logger 📃\n",
    "def init_logger(log_file:str ='training.log'):\n",
    "    \n",
    "    # Specify the format \n",
    "    formatter = logging.Formatter('%(levelname)s:%(name)s:%(message)s')\n",
    "    \n",
    "    # Create a StreamHandler Instance\n",
    "    stream_handler = logging.StreamHandler()\n",
    "    stream_handler.setLevel(logging.DEBUG)\n",
    "    stream_handler.setFormatter(formatter)\n",
    "    \n",
    "    # Create a FileHandler Instance\n",
    "    file_handler = logging.FileHandler(log_file)\n",
    "    file_handler.setFormatter(formatter)\n",
    "    \n",
    "    # Create a logging.Logger Instance\n",
    "    logger = logging.getLogger('Herbarium')\n",
    "    logger.setLevel(logging.DEBUG)\n",
    "    logger.addHandler(stream_handler)\n",
    "    logger.addHandler(file_handler)\n",
    "    \n",
    "    return logger\n",
    "\n",
    "LOGGER = init_logger()\n",
    "LOGGER.info(\"Logger Initialized\")\n",
    "\n",
    "# Logging Into Weights and Biases\n",
    "import wandb\n",
    "from kaggle_secrets import UserSecretsClient\n",
    "\n",
    "user_secrets = UserSecretsClient()\n",
    "api_key = user_secrets.get_secret(\"WANDB_API_KEY\")\n",
    "wandb.login(key=api_key);\n",
    "LOGGER.info(\"Logged into Weights and Biases\")\n",
    "wandb.init(project='Herbarium 2021', entity='sauravmaheshkar')\n",
    "LOGGER.info(\"New run Created\")"
   ]
  },
  {
   "cell_type": "code",
   "execution_count": 3,
   "metadata": {
    "execution": {
     "iopub.execute_input": "2021-03-14T07:53:02.076998Z",
     "iopub.status.busy": "2021-03-14T07:53:02.076124Z",
     "iopub.status.idle": "2021-03-14T07:53:02.078308Z",
     "shell.execute_reply": "2021-03-14T07:53:02.077692Z"
    },
    "papermill": {
     "duration": 0.034841,
     "end_time": "2021-03-14T07:53:02.078464",
     "exception": false,
     "start_time": "2021-03-14T07:53:02.043623",
     "status": "completed"
    },
    "tags": []
   },
   "outputs": [],
   "source": [
    "# Basic Parameters for the Model\n",
    "N_CLASSES = 64500\n",
    "HEIGHT = 128\n",
    "WIDTH = 128\n",
    "batch_size = 512\n",
    "n_epochs = 1\n",
    "lr = 4e-4"
   ]
  },
  {
   "cell_type": "code",
   "execution_count": 4,
   "metadata": {
    "execution": {
     "iopub.execute_input": "2021-03-14T07:53:02.142826Z",
     "iopub.status.busy": "2021-03-14T07:53:02.141803Z",
     "iopub.status.idle": "2021-03-14T07:53:23.673443Z",
     "shell.execute_reply": "2021-03-14T07:53:23.673914Z"
    },
    "papermill": {
     "duration": 21.570409,
     "end_time": "2021-03-14T07:53:23.674075",
     "exception": false,
     "start_time": "2021-03-14T07:53:02.103666",
     "status": "completed"
    },
    "tags": []
   },
   "outputs": [
    {
     "name": "stderr",
     "output_type": "stream",
     "text": [
      "INFO:Herbarium:Train DataFrame Created: ✅\n"
     ]
    },
    {
     "name": "stdout",
     "output_type": "stream",
     "text": [
      "CPU times: user 16.7 s, sys: 1.78 s, total: 18.5 s\n",
      "Wall time: 21.5 s\n"
     ]
    },
    {
     "data": {
      "text/html": [
       "<div>\n",
       "<style scoped>\n",
       "    .dataframe tbody tr th:only-of-type {\n",
       "        vertical-align: middle;\n",
       "    }\n",
       "\n",
       "    .dataframe tbody tr th {\n",
       "        vertical-align: top;\n",
       "    }\n",
       "\n",
       "    .dataframe thead th {\n",
       "        text-align: right;\n",
       "    }\n",
       "</style>\n",
       "<table border=\"1\" class=\"dataframe\">\n",
       "  <thead>\n",
       "    <tr style=\"text-align: right;\">\n",
       "      <th></th>\n",
       "      <th>file_name</th>\n",
       "      <th>height</th>\n",
       "      <th>id</th>\n",
       "      <th>license</th>\n",
       "      <th>width</th>\n",
       "      <th>category_id</th>\n",
       "      <th>institution_id</th>\n",
       "    </tr>\n",
       "  </thead>\n",
       "  <tbody>\n",
       "    <tr>\n",
       "      <th>0</th>\n",
       "      <td>images/604/92/1814367.jpg</td>\n",
       "      <td>1000</td>\n",
       "      <td>1814367</td>\n",
       "      <td>0</td>\n",
       "      <td>678</td>\n",
       "      <td>60492</td>\n",
       "      <td>0</td>\n",
       "    </tr>\n",
       "    <tr>\n",
       "      <th>1</th>\n",
       "      <td>images/108/24/1308257.jpg</td>\n",
       "      <td>1000</td>\n",
       "      <td>1308257</td>\n",
       "      <td>0</td>\n",
       "      <td>666</td>\n",
       "      <td>10824</td>\n",
       "      <td>0</td>\n",
       "    </tr>\n",
       "    <tr>\n",
       "      <th>2</th>\n",
       "      <td>images/330/76/1270453.jpg</td>\n",
       "      <td>1000</td>\n",
       "      <td>1270453</td>\n",
       "      <td>0</td>\n",
       "      <td>739</td>\n",
       "      <td>33076</td>\n",
       "      <td>3</td>\n",
       "    </tr>\n",
       "    <tr>\n",
       "      <th>3</th>\n",
       "      <td>images/247/99/1123834.jpg</td>\n",
       "      <td>1000</td>\n",
       "      <td>1123834</td>\n",
       "      <td>0</td>\n",
       "      <td>672</td>\n",
       "      <td>24799</td>\n",
       "      <td>0</td>\n",
       "    </tr>\n",
       "    <tr>\n",
       "      <th>4</th>\n",
       "      <td>images/170/18/1042410.jpg</td>\n",
       "      <td>1000</td>\n",
       "      <td>1042410</td>\n",
       "      <td>0</td>\n",
       "      <td>675</td>\n",
       "      <td>17018</td>\n",
       "      <td>0</td>\n",
       "    </tr>\n",
       "  </tbody>\n",
       "</table>\n",
       "</div>"
      ],
      "text/plain": [
       "                   file_name  height       id  license  width  category_id  \\\n",
       "0  images/604/92/1814367.jpg    1000  1814367        0    678        60492   \n",
       "1  images/108/24/1308257.jpg    1000  1308257        0    666        10824   \n",
       "2  images/330/76/1270453.jpg    1000  1270453        0    739        33076   \n",
       "3  images/247/99/1123834.jpg    1000  1123834        0    672        24799   \n",
       "4  images/170/18/1042410.jpg    1000  1042410        0    675        17018   \n",
       "\n",
       "   institution_id  \n",
       "0               0  \n",
       "1               0  \n",
       "2               3  \n",
       "3               0  \n",
       "4               0  "
      ]
     },
     "execution_count": 4,
     "metadata": {},
     "output_type": "execute_result"
    }
   ],
   "source": [
    "%%time\n",
    "with open('../input/herbarium-2021-fgvc8/train/metadata.json', \"r\", encoding=\"ISO-8859-1\") as file:\n",
    "    train = json.load(file)\n",
    "\n",
    "train_img = pd.DataFrame(train['images'])\n",
    "train_ann = pd.DataFrame(train['annotations']).drop(columns='image_id')\n",
    "train_df = train_img.merge(train_ann, on='id')\n",
    "LOGGER.info(\"Train DataFrame Created: ✅\")\n",
    "train_df.head()"
   ]
  },
  {
   "cell_type": "markdown",
   "metadata": {
    "papermill": {
     "duration": 0.016342,
     "end_time": "2021-03-14T07:53:23.707370",
     "exception": false,
     "start_time": "2021-03-14T07:53:23.691028",
     "status": "completed"
    },
    "tags": []
   },
   "source": [
    "As we can see the DataFrame contains the following columns:\n",
    "\n",
    "* `file_name: str`: Contains the Relative Path to the Images\n",
    "* `height: int`: The Height of the Image\n",
    "* `width: int`: The Width of the Image\n",
    "* `id: int`: The Image ID\n",
    "* `license: int`: Either 0, 1 or 2\n",
    "* `category_id: int`: Our **Target Variable** determining the species corresponding to the Image"
   ]
  },
  {
   "cell_type": "code",
   "execution_count": 5,
   "metadata": {
    "execution": {
     "iopub.execute_input": "2021-03-14T07:53:23.749758Z",
     "iopub.status.busy": "2021-03-14T07:53:23.748377Z",
     "iopub.status.idle": "2021-03-14T07:53:23.811716Z",
     "shell.execute_reply": "2021-03-14T07:53:23.811229Z"
    },
    "papermill": {
     "duration": 0.087751,
     "end_time": "2021-03-14T07:53:23.811841",
     "exception": false,
     "start_time": "2021-03-14T07:53:23.724090",
     "status": "completed"
    },
    "tags": []
   },
   "outputs": [
    {
     "data": {
      "text/plain": [
       "42811    3309\n",
       "25229    2142\n",
       "48372    2038\n",
       "42843    1656\n",
       "22344    1575\n",
       "         ... \n",
       "62525       2\n",
       "11297       2\n",
       "58424       2\n",
       "39154       2\n",
       "2047        2\n",
       "Name: category_id, Length: 64500, dtype: int64"
      ]
     },
     "execution_count": 5,
     "metadata": {},
     "output_type": "execute_result"
    }
   ],
   "source": [
    "train_df['category_id'].value_counts()"
   ]
  },
  {
   "cell_type": "code",
   "execution_count": 6,
   "metadata": {
    "execution": {
     "iopub.execute_input": "2021-03-14T07:53:23.852135Z",
     "iopub.status.busy": "2021-03-14T07:53:23.851567Z",
     "iopub.status.idle": "2021-03-14T07:53:24.164203Z",
     "shell.execute_reply": "2021-03-14T07:53:24.164713Z"
    },
    "papermill": {
     "duration": 0.33462,
     "end_time": "2021-03-14T07:53:24.164886",
     "exception": false,
     "start_time": "2021-03-14T07:53:23.830266",
     "status": "completed"
    },
    "tags": []
   },
   "outputs": [
    {
     "data": {
      "text/plain": [
       "array([[<AxesSubplot:title={'center':'category_id'}>]], dtype=object)"
      ]
     },
     "execution_count": 6,
     "metadata": {},
     "output_type": "execute_result"
    },
    {
     "data": {
      "image/png": "[encoded data removed]",
      "text/plain": [
       "<Figure size 432x288 with 1 Axes>"
      ]
     },
     "metadata": {
      "needs_background": "light"
     },
     "output_type": "display_data"
    }
   ],
   "source": [
    "train_df.hist(column=\"category_id\")"
   ]
  },
  {
   "cell_type": "code",
   "execution_count": 7,
   "metadata": {
    "execution": {
     "iopub.execute_input": "2021-03-14T07:53:24.244228Z",
     "iopub.status.busy": "2021-03-14T07:53:24.243431Z",
     "iopub.status.idle": "2021-03-14T07:53:25.518923Z",
     "shell.execute_reply": "2021-03-14T07:53:25.518312Z"
    },
    "papermill": {
     "duration": 1.31706,
     "end_time": "2021-03-14T07:53:25.519080",
     "exception": false,
     "start_time": "2021-03-14T07:53:24.202020",
     "status": "completed"
    },
    "tags": []
   },
   "outputs": [
    {
     "name": "stderr",
     "output_type": "stream",
     "text": [
      "INFO:Herbarium:Test DataFrame Created: ✅\n"
     ]
    },
    {
     "name": "stdout",
     "output_type": "stream",
     "text": [
      "CPU times: user 956 ms, sys: 64.1 ms, total: 1.02 s\n",
      "Wall time: 1.27 s\n"
     ]
    },
    {
     "data": {
      "text/html": [
       "<div>\n",
       "<style scoped>\n",
       "    .dataframe tbody tr th:only-of-type {\n",
       "        vertical-align: middle;\n",
       "    }\n",
       "\n",
       "    .dataframe tbody tr th {\n",
       "        vertical-align: top;\n",
       "    }\n",
       "\n",
       "    .dataframe thead th {\n",
       "        text-align: right;\n",
       "    }\n",
       "</style>\n",
       "<table border=\"1\" class=\"dataframe\">\n",
       "  <thead>\n",
       "    <tr style=\"text-align: right;\">\n",
       "      <th></th>\n",
       "      <th>file_name</th>\n",
       "      <th>height</th>\n",
       "      <th>id</th>\n",
       "      <th>license</th>\n",
       "      <th>width</th>\n",
       "    </tr>\n",
       "  </thead>\n",
       "  <tbody>\n",
       "    <tr>\n",
       "      <th>0</th>\n",
       "      <td>images/000/0.jpg</td>\n",
       "      <td>1000</td>\n",
       "      <td>0</td>\n",
       "      <td>0</td>\n",
       "      <td>680</td>\n",
       "    </tr>\n",
       "    <tr>\n",
       "      <th>1</th>\n",
       "      <td>images/000/1.jpg</td>\n",
       "      <td>1000</td>\n",
       "      <td>1</td>\n",
       "      <td>0</td>\n",
       "      <td>681</td>\n",
       "    </tr>\n",
       "    <tr>\n",
       "      <th>2</th>\n",
       "      <td>images/000/2.jpg</td>\n",
       "      <td>1000</td>\n",
       "      <td>2</td>\n",
       "      <td>0</td>\n",
       "      <td>676</td>\n",
       "    </tr>\n",
       "    <tr>\n",
       "      <th>3</th>\n",
       "      <td>images/000/3.jpg</td>\n",
       "      <td>1000</td>\n",
       "      <td>3</td>\n",
       "      <td>0</td>\n",
       "      <td>666</td>\n",
       "    </tr>\n",
       "    <tr>\n",
       "      <th>4</th>\n",
       "      <td>images/000/4.jpg</td>\n",
       "      <td>1000</td>\n",
       "      <td>4</td>\n",
       "      <td>0</td>\n",
       "      <td>676</td>\n",
       "    </tr>\n",
       "  </tbody>\n",
       "</table>\n",
       "</div>"
      ],
      "text/plain": [
       "          file_name  height  id  license  width\n",
       "0  images/000/0.jpg    1000   0        0    680\n",
       "1  images/000/1.jpg    1000   1        0    681\n",
       "2  images/000/2.jpg    1000   2        0    676\n",
       "3  images/000/3.jpg    1000   3        0    666\n",
       "4  images/000/4.jpg    1000   4        0    676"
      ]
     },
     "execution_count": 7,
     "metadata": {},
     "output_type": "execute_result"
    }
   ],
   "source": [
    "%%time\n",
    "with open('../input/herbarium-2021-fgvc8/test/metadata.json', \"r\", encoding=\"ISO-8859-1\") as file:\n",
    "    test = json.load(file)\n",
    "\n",
    "test_df = pd.DataFrame(test['images'])\n",
    "LOGGER.info(\"Test DataFrame Created: ✅\")\n",
    "test_df.head()"
   ]
  },
  {
   "cell_type": "markdown",
   "metadata": {
    "papermill": {
     "duration": 0.021843,
     "end_time": "2021-03-14T07:53:25.560445",
     "exception": false,
     "start_time": "2021-03-14T07:53:25.538602",
     "status": "completed"
    },
    "tags": []
   },
   "source": [
    "<a id=\"label-encoder\"></a>\n",
    "# 🏷 Label Encoder\n",
    "\n",
    "We use the [LabelEncoder](https://scikit-learn.org/stable/modules/generated/sklearn.preprocessing.LabelEncoder.html) from sklearn.preprocessing in order to encode **target labels** with value between `0` and `n_classes-1`."
   ]
  },
  {
   "cell_type": "code",
   "execution_count": 8,
   "metadata": {
    "execution": {
     "iopub.execute_input": "2021-03-14T07:53:25.606752Z",
     "iopub.status.busy": "2021-03-14T07:53:25.605623Z",
     "iopub.status.idle": "2021-03-14T07:53:26.227189Z",
     "shell.execute_reply": "2021-03-14T07:53:26.226682Z"
    },
    "papermill": {
     "duration": 0.647414,
     "end_time": "2021-03-14T07:53:26.227319",
     "exception": false,
     "start_time": "2021-03-14T07:53:25.579905",
     "status": "completed"
    },
    "tags": []
   },
   "outputs": [
    {
     "name": "stderr",
     "output_type": "stream",
     "text": [
      "INFO:Herbarium:LabelEncoder Instance created ✅\n",
      "INFO:Herbarium:Fitting the LabelEncoder Instance\n",
      "INFO:Herbarium:Converting Labels to Normalized Encoding\n"
     ]
    }
   ],
   "source": [
    "# Create a Instance of LabelEncoder\n",
    "encoder = preprocessing.LabelEncoder()\n",
    "LOGGER.info(\"LabelEncoder Instance created ✅\")\n",
    "\n",
    "# Fits the label encoder instance\n",
    "LOGGER.info(\"Fitting the LabelEncoder Instance\")\n",
    "encoder.fit(train_df['category_id'])\n",
    "\n",
    "# To Transform labels to normalized encoding\n",
    "LOGGER.info(\"Converting Labels to Normalized Encoding\")\n",
    "train_df['category_id'] = encoder.transform(train_df['category_id'])"
   ]
  },
  {
   "cell_type": "markdown",
   "metadata": {
    "papermill": {
     "duration": 0.020073,
     "end_time": "2021-03-14T07:53:26.267656",
     "exception": false,
     "start_time": "2021-03-14T07:53:26.247583",
     "status": "completed"
    },
    "tags": []
   },
   "source": [
    "<a id = \"Data\"></a>\n",
    "# 💿 Dataset, DataLoader and K-Fold"
   ]
  },
  {
   "cell_type": "markdown",
   "metadata": {
    "papermill": {
     "duration": 0.019938,
     "end_time": "2021-03-14T07:53:26.307694",
     "exception": false,
     "start_time": "2021-03-14T07:53:26.287756",
     "status": "completed"
    },
    "tags": []
   },
   "source": [
    "The following code cell aims to convert the Herbarium dataset into a torch `torch..utils.data.Dataset` object.\n",
    "\n",
    "All Dataset objects in pytorch represent a map from keys to data samples. We create a subclass which overwrites the __getitem__() and __len__() method (for it to work well with the `torch.utils.data.DataLoader`).\n",
    "\n",
    "In the __getitem__() method, we use df[<column_name>].values[] to get the `file_name `and then use `cv2` to read the image. If the transform bool is set to True, we apply the transforms. \n",
    "\n",
    "Each element of our dataset returns:\n",
    "\n",
    "* Image\n",
    "* Encoded Label"
   ]
  },
  {
   "cell_type": "code",
   "execution_count": 9,
   "metadata": {
    "execution": {
     "iopub.execute_input": "2021-03-14T07:53:26.359653Z",
     "iopub.status.busy": "2021-03-14T07:53:26.358841Z",
     "iopub.status.idle": "2021-03-14T07:53:26.361964Z",
     "shell.execute_reply": "2021-03-14T07:53:26.362430Z"
    },
    "papermill": {
     "duration": 0.032362,
     "end_time": "2021-03-14T07:53:26.362624",
     "exception": false,
     "start_time": "2021-03-14T07:53:26.330262",
     "status": "completed"
    },
    "tags": []
   },
   "outputs": [],
   "source": [
    "class TrainDataset(torch.utils.data.Dataset):\n",
    "    \"\"\"\n",
    "    Custom Dataset Class\n",
    "    \"\"\"\n",
    "    def __init__(self, df, labels, transform=None):\n",
    "        self.df = df\n",
    "        self.labels = labels\n",
    "        self.transform = transform\n",
    "        \n",
    "    def __len__(self) -> int:\n",
    "        return len(self.df)\n",
    "\n",
    "    def __getitem__(self, idx):\n",
    "        file_name = self.df['file_name'].values[idx]\n",
    "        file_path = f'../input/herbarium-2021-fgvc8/train/{file_name}'\n",
    "        image = cv2.imread(file_path)\n",
    "        image = cv2.cvtColor(image, cv2.COLOR_BGR2RGB)\n",
    "        label = self.labels.values[idx]\n",
    "        \n",
    "        if self.transform:\n",
    "            augmented = self.transform(image=image)\n",
    "            image = augmented['image']\n",
    "        \n",
    "        return image, label"
   ]
  },
  {
   "cell_type": "markdown",
   "metadata": {
    "papermill": {
     "duration": 0.020035,
     "end_time": "2021-03-14T07:53:26.405488",
     "exception": false,
     "start_time": "2021-03-14T07:53:26.385453",
     "status": "completed"
    },
    "tags": []
   },
   "source": [
    "## Image Augmentation:🌆 -> 🌇\n",
    "\n",
    "Applying Standard Image Augmentation Techniques, such as `Resize`, `Normalize` and conversion to `torch.Tensor`"
   ]
  },
  {
   "cell_type": "code",
   "execution_count": 10,
   "metadata": {
    "execution": {
     "iopub.execute_input": "2021-03-14T07:53:26.457483Z",
     "iopub.status.busy": "2021-03-14T07:53:26.456627Z",
     "iopub.status.idle": "2021-03-14T07:53:26.459866Z",
     "shell.execute_reply": "2021-03-14T07:53:26.460418Z"
    },
    "papermill": {
     "duration": 0.035025,
     "end_time": "2021-03-14T07:53:26.460607",
     "exception": false,
     "start_time": "2021-03-14T07:53:26.425582",
     "status": "completed"
    },
    "tags": []
   },
   "outputs": [],
   "source": [
    "def get_transforms(*, data: str):\n",
    "    \n",
    "    # Only allows transforms for \"train\" and \"valid\"\n",
    "    assert data in ('train', 'valid')\n",
    "    \n",
    "    # Data Transformations for Training set\n",
    "    if data == 'train':\n",
    "        return albumentations.Compose([\n",
    "            albumentations.Resize(HEIGHT, WIDTH),\n",
    "            albumentations.Normalize(\n",
    "                mean=[0.485, 0.456, 0.406],\n",
    "                std=[0.229, 0.224, 0.225],\n",
    "            ),\n",
    "            ToTensorV2(),\n",
    "        ])\n",
    "    \n",
    "    # Data Transformations for Validation set\n",
    "    elif data == 'valid':\n",
    "        return albumentations.Compose([\n",
    "            albumentations.Resize(HEIGHT, WIDTH),\n",
    "            albumentations.Normalize(\n",
    "                mean=[0.485, 0.456, 0.406],\n",
    "                std=[0.229, 0.224, 0.225],\n",
    "            ),\n",
    "            ToTensorV2(),\n",
    "        ])"
   ]
  },
  {
   "cell_type": "markdown",
   "metadata": {
    "papermill": {
     "duration": 0.0203,
     "end_time": "2021-03-14T07:53:26.506305",
     "exception": false,
     "start_time": "2021-03-14T07:53:26.486005",
     "status": "completed"
    },
    "tags": []
   },
   "source": [
    "## StratifiedKFold\n",
    "\n",
    "Stratified kfold cross validation is an extension of regular kfold cross validation but specifically for **classification problems** where rather than the splits being completely random, the ratio between the target classes is the same in each fold as it is in the full dataset. We choose to use StratifiedKFold because we have some class imbalance in our Dataset."
   ]
  },
  {
   "cell_type": "code",
   "execution_count": 11,
   "metadata": {
    "execution": {
     "iopub.execute_input": "2021-03-14T07:53:26.557935Z",
     "iopub.status.busy": "2021-03-14T07:53:26.556833Z",
     "iopub.status.idle": "2021-03-14T07:54:47.522301Z",
     "shell.execute_reply": "2021-03-14T07:54:47.521247Z"
    },
    "papermill": {
     "duration": 80.995664,
     "end_time": "2021-03-14T07:54:47.522462",
     "exception": false,
     "start_time": "2021-03-14T07:53:26.526798",
     "status": "completed"
    },
    "tags": []
   },
   "outputs": [
    {
     "name": "stderr",
     "output_type": "stream",
     "text": [
      "INFO:Herbarium:Creating StratifiedKFold Instance\n",
      "INFO:Herbarium:Creating Splits\n",
      "INFO:Herbarium:Exporting Folds to csv\n",
      "INFO:Herbarium:Logging folds.csv to W&B Artifacts\n"
     ]
    }
   ],
   "source": [
    "# For Debugging\n",
    "DEBUG = False\n",
    "\n",
    "if DEBUG:\n",
    "    folds = train_df.sample(n=10000, random_state=0).reset_index(drop=True).copy()\n",
    "else:\n",
    "    folds = train_df.copy()\n",
    "\n",
    "# Create a seperate train_labels variable\n",
    "train_labels = folds['category_id'].values\n",
    "\n",
    "# Create StratifiedKFold Instance\n",
    "LOGGER.info(\"Creating StratifiedKFold Instance\")\n",
    "kf = StratifiedKFold(n_splits=2)\n",
    "\n",
    "# Creating Splits\n",
    "LOGGER.info(\"Creating Splits\")\n",
    "for fold, (train_index, val_index) in enumerate(kf.split(folds.values, train_labels)):\n",
    "    folds.loc[val_index, 'fold'] = int(fold)\n",
    "    \n",
    "folds['fold'] = folds['fold'].astype(int)\n",
    "\n",
    "# Exporting to CSV\n",
    "LOGGER.info(\"Exporting Folds to csv\")\n",
    "folds.to_csv('folds.csv', index=None)\n",
    "\n",
    "#save it as model artifact on W&B\n",
    "artifact =  wandb.Artifact(name=\"folds\", type=\"dataset\")\n",
    "artifact.add_file(\"folds.csv\")\n",
    "LOGGER.info(\"Logging folds.csv to W&B Artifacts\")\n",
    "wandb.log_artifact(artifact)\n",
    "\n",
    "# Creating Train and Valid sets\n",
    "FOLD = 0\n",
    "trn_idx = folds[folds['fold'] != FOLD].index\n",
    "val_idx = folds[folds['fold'] == FOLD].index"
   ]
  },
  {
   "cell_type": "markdown",
   "metadata": {
    "papermill": {
     "duration": 0.023385,
     "end_time": "2021-03-14T07:54:47.567613",
     "exception": false,
     "start_time": "2021-03-14T07:54:47.544228",
     "status": "completed"
    },
    "tags": []
   },
   "source": [
    "It takes a lot of time to generate folds, that's we use Weights and Biases Artifacts to store our `folds.csv`. You can store different versions of your datasets and models in the cloud as Artifacts. Think of an Artifact as of a folder of data to which we can add individual files, and then upload to the cloud as a part of our W&B project, which also supports automatic versioning of datasets and models. Artifacts also track the training pipelines as DAGs. Here's an example of a  artifacts graph.\n",
    "\n",
    "![](https://i.imgur.com/QQULnpP.gif)"
   ]
  },
  {
   "cell_type": "code",
   "execution_count": 12,
   "metadata": {
    "execution": {
     "iopub.execute_input": "2021-03-14T07:54:47.616666Z",
     "iopub.status.busy": "2021-03-14T07:54:47.615832Z",
     "iopub.status.idle": "2021-03-14T07:54:48.238075Z",
     "shell.execute_reply": "2021-03-14T07:54:48.237210Z"
    },
    "papermill": {
     "duration": 0.649603,
     "end_time": "2021-03-14T07:54:48.238207",
     "exception": false,
     "start_time": "2021-03-14T07:54:47.588604",
     "status": "completed"
    },
    "tags": []
   },
   "outputs": [
    {
     "name": "stderr",
     "output_type": "stream",
     "text": [
      "INFO:Herbarium:Training Dataset Object Created ✅\n",
      "INFO:Herbarium:Validation Dataset Object Created ✅\n"
     ]
    }
   ],
   "source": [
    "# Create Training Dataset\n",
    "train_dataset = TrainDataset(folds.loc[trn_idx].reset_index(drop=True), \n",
    "                             folds.loc[trn_idx]['category_id'], \n",
    "                             transform=get_transforms(data='train'))\n",
    "LOGGER.info(\"Training Dataset Object Created ✅\")\n",
    "\n",
    "# Create Validation Dataset\n",
    "valid_dataset = TrainDataset(folds.loc[val_idx].reset_index(drop=True), \n",
    "                             folds.loc[val_idx]['category_id'], \n",
    "                             transform=get_transforms(data='valid'))\n",
    "LOGGER.info(\"Validation Dataset Object Created ✅\")"
   ]
  },
  {
   "cell_type": "code",
   "execution_count": 13,
   "metadata": {
    "execution": {
     "iopub.execute_input": "2021-03-14T07:54:48.288381Z",
     "iopub.status.busy": "2021-03-14T07:54:48.287320Z",
     "iopub.status.idle": "2021-03-14T07:54:48.297240Z",
     "shell.execute_reply": "2021-03-14T07:54:48.296771Z"
    },
    "papermill": {
     "duration": 0.037108,
     "end_time": "2021-03-14T07:54:48.297354",
     "exception": false,
     "start_time": "2021-03-14T07:54:48.260246",
     "status": "completed"
    },
    "tags": []
   },
   "outputs": [
    {
     "name": "stderr",
     "output_type": "stream",
     "text": [
      "INFO:Herbarium:Creating Training DataLoader\n",
      "INFO:Herbarium:Training DataLoader created\n",
      "INFO:Herbarium:Creating Validation DataLoader\n",
      "INFO:Herbarium:Validation DataLoader created\n"
     ]
    }
   ],
   "source": [
    "LOGGER.info(\"Creating Training DataLoader\")\n",
    "train_loader = torch.utils.data.DataLoader(train_dataset, batch_size=batch_size, shuffle=True, num_workers=4)\n",
    "LOGGER.info(\"Training DataLoader created\")\n",
    "\n",
    "LOGGER.info(\"Creating Validation DataLoader\")\n",
    "valid_loader = torch.utils.data.DataLoader(valid_dataset, batch_size=batch_size, shuffle=False, num_workers=4)\n",
    "LOGGER.info(\"Validation DataLoader created\")"
   ]
  },
  {
   "cell_type": "markdown",
   "metadata": {
    "papermill": {
     "duration": 0.0323,
     "end_time": "2021-03-14T07:54:48.354352",
     "exception": false,
     "start_time": "2021-03-14T07:54:48.322052",
     "status": "completed"
    },
    "tags": []
   },
   "source": [
    "<a id = \"Model\"></a>\n",
    "# The Model 👷‍♀️\n",
    "\n",
    "---\n",
    "\n",
    "## Transfer Learning\n",
    "\n",
    "The main aim of transfer learning (TL) is to implement a model quickly i.e. instead of creating a DNN (dense neural network) from scratch, the model will transfer the features it has learned from the different dataset that has performed the same task. This transaction is also known as **knowledge transfer**.\n",
    "\n",
    "## Resnet18\n",
    "\n",
    "A residual network, or ResNet for short, is a DNN that helps to build deeper neural networks by utilizing skip connections or shortcuts to jump over some layers. This helps solve the problem of **vanishing gradients**.\n",
    "\n",
    "There are different versions of ResNet, including ResNet-18, ResNet-34, ResNet-50, and so on. The numbers denote layers, although the architecture is the same.\n",
    "\n",
    "![](https://i.imgur.com/XwcnU5x.png)\n",
    "\n",
    "In the end, we just add a Adaptive Pooling Layer and a Fully Connected Layer with output dimensions equal to the number of classes."
   ]
  },
  {
   "cell_type": "code",
   "execution_count": 14,
   "metadata": {
    "execution": {
     "iopub.execute_input": "2021-03-14T07:54:48.408175Z",
     "iopub.status.busy": "2021-03-14T07:54:48.407326Z",
     "iopub.status.idle": "2021-03-14T07:54:52.361219Z",
     "shell.execute_reply": "2021-03-14T07:54:52.362702Z"
    },
    "papermill": {
     "duration": 3.985288,
     "end_time": "2021-03-14T07:54:52.363014",
     "exception": false,
     "start_time": "2021-03-14T07:54:48.377726",
     "status": "completed"
    },
    "tags": []
   },
   "outputs": [
    {
     "name": "stderr",
     "output_type": "stream",
     "text": [
      "INFO:Herbarium:Model Created ✅\n"
     ]
    }
   ],
   "source": [
    "%%capture\n",
    "# Creating a instance of a Resnet18 pretrained Model\n",
    "model = torchvision.models.resnet18(pretrained=True)\n",
    "\n",
    "# Add a Adaptive Average Pooling Layer\n",
    "model.avgpool = torch.nn.AdaptiveAvgPool2d(1)\n",
    "\n",
    "# Add a Fully connected Layer with N_CLASSES as the output dimension\n",
    "model.fc = torch.nn.Linear(model.fc.in_features, N_CLASSES)\n",
    "\n",
    "LOGGER.info(\"Model Created ✅\")"
   ]
  },
  {
   "cell_type": "markdown",
   "metadata": {
    "papermill": {
     "duration": 0.052042,
     "end_time": "2021-03-14T07:54:52.468232",
     "exception": false,
     "start_time": "2021-03-14T07:54:52.416190",
     "status": "completed"
    },
    "tags": []
   },
   "source": [
    "<a id=\"Training\"></a>\n",
    "\n",
    "# Training 💪🏻\n",
    "\n",
    "looping over our data iterator, and feed the inputs to the network and optimize."
   ]
  },
  {
   "cell_type": "code",
   "execution_count": 15,
   "metadata": {
    "execution": {
     "iopub.execute_input": "2021-03-14T07:54:52.565496Z",
     "iopub.status.busy": "2021-03-14T07:54:52.564638Z",
     "iopub.status.idle": "2021-03-14T13:46:55.852186Z",
     "shell.execute_reply": "2021-03-14T13:46:55.852631Z"
    },
    "papermill": {
     "duration": 21123.341114,
     "end_time": "2021-03-14T13:46:55.852845",
     "exception": false,
     "start_time": "2021-03-14T07:54:52.511731",
     "status": "completed"
    },
    "tags": []
   },
   "outputs": [
    {
     "name": "stderr",
     "output_type": "stream",
     "text": [
      "INFO:Herbarium:Starting Training\n",
      "2205it [3:00:04,  4.90s/it]\n",
      "DEBUG:Herbarium:  Epoch 1 - avg_train_loss: 6.1567  avg_val_loss: 3.6486  F1: 0.073610\n",
      "DEBUG:Herbarium:  Epoch 1 - Save Best Score: 0.073610 Model\n",
      "DEBUG:Herbarium:  Epoch 1 - Save Best Loss: 3.6486 Model\n"
     ]
    }
   ],
   "source": [
    "# moves the model to the device\n",
    "model.to(device)\n",
    "    \n",
    "# Creating Optimizers and Schedulers\n",
    "optimizer = torch.optim.Adam(model.parameters(), lr=lr, amsgrad=False)\n",
    "scheduler = torch.optim.lr_scheduler.ReduceLROnPlateau(optimizer, 'min', factor=0.75, patience=5, verbose=True, eps=1e-6)\n",
    "    \n",
    "# Loss Function\n",
    "criterion = torch.nn.CrossEntropyLoss()\n",
    "best_score = 0.\n",
    "best_loss = np.inf\n",
    "\n",
    "LOGGER.info(\"Starting Training\")\n",
    "wandb.watch(model)\n",
    "    \n",
    "for epoch in range(n_epochs):\n",
    "        \n",
    "    # Sets the model in training mode\n",
    "    model.train()\n",
    "    avg_loss = 0.\n",
    "\n",
    "    # Sets gradients of all model parameters to zero\n",
    "    optimizer.zero_grad()\n",
    "\n",
    "    for i, (images, labels) in tqdm(enumerate(train_loader)):\n",
    "        \n",
    "        # Move Image and Labels to device\n",
    "        images = images.to(device)\n",
    "        labels = labels.to(device)\n",
    "            \n",
    "        # Forward Pass\n",
    "        y_preds = model(images)\n",
    "        \n",
    "        # Calculate Loss\n",
    "        loss = criterion(y_preds, labels)\n",
    "        \n",
    "        # Log our Training Loss to W&B\n",
    "        wandb.log({\"loss\": loss})\n",
    "            \n",
    "        # Backpropagation\n",
    "        loss.backward()\n",
    "        optimizer.step()\n",
    "        optimizer.zero_grad()\n",
    "\n",
    "        # Update Average Loss\n",
    "        avg_loss += loss.item() / len(train_loader)\n",
    "            \n",
    "    # Set Model in Eval mode\n",
    "    model.eval()\n",
    "    avg_val_loss = 0.\n",
    "    preds = np.zeros((len(valid_dataset)))\n",
    "\n",
    "    for i, (images, labels) in enumerate(valid_loader):\n",
    "            \n",
    "        # Move Image and Labels to device\n",
    "        images = images.to(device)\n",
    "        labels = labels.to(device)\n",
    "            \n",
    "        # To perform inference without Gradient Calculation\n",
    "        with torch.no_grad():\n",
    "            y_preds = model(images)\n",
    "            \n",
    "        preds[i * batch_size: (i+1) * batch_size] = y_preds.argmax(1).to('cpu').numpy()\n",
    "\n",
    "        # Calculate Loss\n",
    "        loss = criterion(y_preds, labels)\n",
    "        \n",
    "        # Log our Validation Loss to W&B\n",
    "        wandb.log({\"val_loss\": loss})\n",
    "        \n",
    "        # Update Average Validation Loss\n",
    "        avg_val_loss += loss.item() / len(valid_loader)\n",
    "        \n",
    "    # Updates Learning Rate wrt to the Average Validation Loss\n",
    "    scheduler.step(avg_val_loss)\n",
    "            \n",
    "    # Calculate F1 Score\n",
    "    score = sklearn.metrics.f1_score(folds.loc[val_idx]['category_id'].values, preds, average='macro')\n",
    "    \n",
    "    # Log our F1 Score to W&B\n",
    "    wandb.log({\"f1_score\": score})\n",
    "\n",
    "    # Prints Stats\n",
    "    LOGGER.debug(f'  Epoch {epoch+1} - avg_train_loss: {avg_loss:.4f}  avg_val_loss: {avg_val_loss:.4f}  F1: {score:.6f}')\n",
    "\n",
    "    # Update Best Score\n",
    "    if score>best_score:\n",
    "        best_score = score\n",
    "        LOGGER.debug(f'  Epoch {epoch+1} - Save Best Score: {best_score:.6f} Model')\n",
    "        torch.save(model.state_dict(), f'fold{FOLD}_best_score.pth')\n",
    "\n",
    "    if avg_val_loss<best_loss:\n",
    "        best_loss = avg_val_loss\n",
    "        LOGGER.debug(f'  Epoch {epoch+1} - Save Best Loss: {best_loss:.4f} Model')\n",
    "        torch.save(model.state_dict(), f'fold{FOLD}_best_loss.pth')"
   ]
  },
  {
   "cell_type": "markdown",
   "metadata": {
    "papermill": {
     "duration": 0.573228,
     "end_time": "2021-03-14T13:46:57.013473",
     "exception": false,
     "start_time": "2021-03-14T13:46:56.440245",
     "status": "completed"
    },
    "tags": []
   },
   "source": [
    "# Resources\n",
    "\n",
    "- Logging Tutorial Series by Corey Schafer:\n",
    "    - [Video 🎥 1: Python Tutorial: Logging Basics - Logging to Files, Setting Levels, and Formatting\n",
    "](https://youtu.be/-ARI4Cz-awo)\n",
    "    - [Video 🎥 2: Python Tutorial: Logging Advanced - Loggers, Handlers, and Formatters\n",
    "](https://youtu.be/jxmzY9soFXg)\n",
    "\n",
    "- [Stratified K-Fold: What It Is & How to Use It](https://towardsdatascience.com/stratified-k-fold-what-it-is-how-to-use-it-cf3d107d3ea2)\n",
    "\n",
    "- [Weights and Biases: Getting Started](https://wandb.ai/site/getting-started)\n",
    "\n",
    "- [Compete More Effectively on Kaggle using Weights and Biases](https://youtu.be/Y7rjzfpWSo8)"
   ]
  }
 ],
 "metadata": {
  "kernelspec": {
   "display_name": "Python 3",
   "language": "python",
   "name": "python3"
  },
  "language_info": {
   "codemirror_mode": {
    "name": "ipython",
    "version": 3
   },
   "file_extension": ".py",
   "mimetype": "text/x-python",
   "name": "python",
   "nbconvert_exporter": "python",
   "pygments_lexer": "ipython3",
   "version": "3.7.9"
  },
  "papermill": {
   "default_parameters": {},
   "duration": 21274.696637,
   "end_time": "2021-03-14T13:47:04.155430",
   "environment_variables": {},
   "exception": null,
   "input_path": "__notebook__.ipynb",
   "output_path": "__notebook__.ipynb",
   "parameters": {},
   "start_time": "2021-03-14T07:52:29.458793",
   "version": "2.2.2"
  },
  "widgets": {
   "application/vnd.jupyter.widget-state+json": {
    "state": {
     "2349fccd25bd4611819a69eae6dba549": {
      "model_module": "@jupyter-widgets/controls",
      "model_module_version": "1.5.0",
      "model_name": "DescriptionStyleModel",
      "state": {
       "_model_module": "@jupyter-widgets/controls",
       "_model_module_version": "1.5.0",
       "_model_name": "DescriptionStyleModel",
       "_view_count": null,
       "_view_module": "@jupyter-widgets/base",
       "_view_module_version": "1.2.0",
       "_view_name": "StyleView",
       "description_width": ""
      }
     },
     "2a69c3ce5af04185847fa89db2fd70af": {
      "model_module": "@jupyter-widgets/base",
      "model_module_version": "1.2.0",
      "model_name": "LayoutModel",
      "state": {
       "_model_module": "@jupyter-widgets/base",
       "_model_module_version": "1.2.0",
       "_model_name": "LayoutModel",
       "_view_count": null,
       "_view_module": "@jupyter-widgets/base",
       "_view_module_version": "1.2.0",
       "_view_name": "LayoutView",
       "align_content": null,
       "align_items": null,
       "align_self": null,
       "border": null,
       "bottom": null,
       "display": null,
       "flex": null,
       "flex_flow": null,
       "grid_area": null,
       "grid_auto_columns": null,
       "grid_auto_flow": null,
       "grid_auto_rows": null,
       "grid_column": null,
       "grid_gap": null,
       "grid_row": null,
       "grid_template_areas": null,
       "grid_template_columns": null,
       "grid_template_rows": null,
       "height": null,
       "justify_content": null,
       "justify_items": null,
       "left": null,
       "margin": null,
       "max_height": null,
       "max_width": null,
       "min_height": null,
       "min_width": null,
       "object_fit": null,
       "object_position": null,
       "order": null,
       "overflow": null,
       "overflow_x": null,
       "overflow_y": null,
       "padding": null,
       "right": null,
       "top": null,
       "visibility": null,
       "width": null
      }
     },
     "2de82fec72104b21afe6e7c137555d6a": {
      "model_module": "@jupyter-widgets/controls",
      "model_module_version": "1.5.0",
      "model_name": "ProgressStyleModel",
      "state": {
       "_model_module": "@jupyter-widgets/controls",
       "_model_module_version": "1.5.0",
       "_model_name": "ProgressStyleModel",
       "_view_count": null,
       "_view_module": "@jupyter-widgets/base",
       "_view_module_version": "1.2.0",
       "_view_name": "StyleView",
       "bar_color": null,
       "description_width": ""
      }
     },
     "3620f3a40ba043e0a76cff86038d75ce": {
      "model_module": "@jupyter-widgets/base",
      "model_module_version": "1.2.0",
      "model_name": "LayoutModel",
      "state": {
       "_model_module": "@jupyter-widgets/base",
       "_model_module_version": "1.2.0",
       "_model_name": "LayoutModel",
       "_view_count": null,
       "_view_module": "@jupyter-widgets/base",
       "_view_module_version": "1.2.0",
       "_view_name": "LayoutView",
       "align_content": null,
       "align_items": null,
       "align_self": null,
       "border": null,
       "bottom": null,
       "display": null,
       "flex": null,
       "flex_flow": null,
       "grid_area": null,
       "grid_auto_columns": null,
       "grid_auto_flow": null,
       "grid_auto_rows": null,
       "grid_column": null,
       "grid_gap": null,
       "grid_row": null,
       "grid_template_areas": null,
       "grid_template_columns": null,
       "grid_template_rows": null,
       "height": null,
       "justify_content": null,
       "justify_items": null,
       "left": null,
       "margin": null,
       "max_height": null,
       "max_width": null,
       "min_height": null,
       "min_width": null,
       "object_fit": null,
       "object_position": null,
       "order": null,
       "overflow": null,
       "overflow_x": null,
       "overflow_y": null,
       "padding": null,
       "right": null,
       "top": null,
       "visibility": null,
       "width": null
      }
     },
     "38b37aa8411440aa9f1e28d583d05447": {
      "model_module": "@jupyter-widgets/controls",
      "model_module_version": "1.5.0",
      "model_name": "HBoxModel",
      "state": {
       "_dom_classes": [],
       "_model_module": "@jupyter-widgets/controls",
       "_model_module_version": "1.5.0",
       "_model_name": "HBoxModel",
       "_view_count": null,
       "_view_module": "@jupyter-widgets/controls",
       "_view_module_version": "1.5.0",
       "_view_name": "HBoxView",
       "box_style": "",
       "children": [
        "IPY_MODEL_bd0ea99584db488383f1b622d9b09af5",
        "IPY_MODEL_8a7edbad93194f58bd29f75cab352350",
        "IPY_MODEL_8de875270a9e49b284723ba6894bc61f"
       ],
       "layout": "IPY_MODEL_3620f3a40ba043e0a76cff86038d75ce"
      }
     },
     "400f8e54e1e64630a34d497997930331": {
      "model_module": "@jupyter-widgets/base",
      "model_module_version": "1.2.0",
      "model_name": "LayoutModel",
      "state": {
       "_model_module": "@jupyter-widgets/base",
       "_model_module_version": "1.2.0",
       "_model_name": "LayoutModel",
       "_view_count": null,
       "_view_module": "@jupyter-widgets/base",
       "_view_module_version": "1.2.0",
       "_view_name": "LayoutView",
       "align_content": null,
       "align_items": null,
       "align_self": null,
       "border": null,
       "bottom": null,
       "display": null,
       "flex": null,
       "flex_flow": null,
       "grid_area": null,
       "grid_auto_columns": null,
       "grid_auto_flow": null,
       "grid_auto_rows": null,
       "grid_column": null,
       "grid_gap": null,
       "grid_row": null,
       "grid_template_areas": null,
       "grid_template_columns": null,
       "grid_template_rows": null,
       "height": null,
       "justify_content": null,
       "justify_items": null,
       "left": null,
       "margin": null,
       "max_height": null,
       "max_width": null,
       "min_height": null,
       "min_width": null,
       "object_fit": null,
       "object_position": null,
       "order": null,
       "overflow": null,
       "overflow_x": null,
       "overflow_y": null,
       "padding": null,
       "right": null,
       "top": null,
       "visibility": null,
       "width": null
      }
     },
     "624c0a3006b74535884854394bf4ffc3": {
      "model_module": "@jupyter-widgets/base",
      "model_module_version": "1.2.0",
      "model_name": "LayoutModel",
      "state": {
       "_model_module": "@jupyter-widgets/base",
       "_model_module_version": "1.2.0",
       "_model_name": "LayoutModel",
       "_view_count": null,
       "_view_module": "@jupyter-widgets/base",
       "_view_module_version": "1.2.0",
       "_view_name": "LayoutView",
       "align_content": null,
       "align_items": null,
       "align_self": null,
       "border": null,
       "bottom": null,
       "display": null,
       "flex": null,
       "flex_flow": null,
       "grid_area": null,
       "grid_auto_columns": null,
       "grid_auto_flow": null,
       "grid_auto_rows": null,
       "grid_column": null,
       "grid_gap": null,
       "grid_row": null,
       "grid_template_areas": null,
       "grid_template_columns": null,
       "grid_template_rows": null,
       "height": null,
       "justify_content": null,
       "justify_items": null,
       "left": null,
       "margin": null,
       "max_height": null,
       "max_width": null,
       "min_height": null,
       "min_width": null,
       "object_fit": null,
       "object_position": null,
       "order": null,
       "overflow": null,
       "overflow_x": null,
       "overflow_y": null,
       "padding": null,
       "right": null,
       "top": null,
       "visibility": null,
       "width": null
      }
     },
     "65676458c333456e8903f91b62a91a7a": {
      "model_module": "@jupyter-widgets/base",
      "model_module_version": "1.2.0",
      "model_name": "LayoutModel",
      "state": {
       "_model_module": "@jupyter-widgets/base",
       "_model_module_version": "1.2.0",
       "_model_name": "LayoutModel",
       "_view_count": null,
       "_view_module": "@jupyter-widgets/base",
       "_view_module_version": "1.2.0",
       "_view_name": "LayoutView",
       "align_content": null,
       "align_items": null,
       "align_self": null,
       "border": null,
       "bottom": null,
       "display": null,
       "flex": null,
       "flex_flow": null,
       "grid_area": null,
       "grid_auto_columns": null,
       "grid_auto_flow": null,
       "grid_auto_rows": null,
       "grid_column": null,
       "grid_gap": null,
       "grid_row": null,
       "grid_template_areas": null,
       "grid_template_columns": null,
       "grid_template_rows": null,
       "height": null,
       "justify_content": null,
       "justify_items": null,
       "left": null,
       "margin": null,
       "max_height": null,
       "max_width": null,
       "min_height": null,
       "min_width": null,
       "object_fit": null,
       "object_position": null,
       "order": null,
       "overflow": null,
       "overflow_x": null,
       "overflow_y": null,
       "padding": null,
       "right": null,
       "top": null,
       "visibility": null,
       "width": null
      }
     },
     "782d5db54821416a97c24c23d6a52789": {
      "model_module": "@jupyter-widgets/controls",
      "model_module_version": "1.5.0",
      "model_name": "LabelModel",
      "state": {
       "_dom_classes": [],
       "_model_module": "@jupyter-widgets/controls",
       "_model_module_version": "1.5.0",
       "_model_name": "LabelModel",
       "_view_count": null,
       "_view_module": "@jupyter-widgets/controls",
       "_view_module_version": "1.5.0",
       "_view_name": "LabelView",
       "description": "",
       "description_tooltip": null,
       "layout": "IPY_MODEL_adf21068c32847309c3019e52432d4ab",
       "placeholder": "​",
       "style": "IPY_MODEL_91c7182c82be4097859ac93c83c81230",
       "value": ""
      }
     },
     "8a7edbad93194f58bd29f75cab352350": {
      "model_module": "@jupyter-widgets/controls",
      "model_module_version": "1.5.0",
      "model_name": "FloatProgressModel",
      "state": {
       "_dom_classes": [],
       "_model_module": "@jupyter-widgets/controls",
       "_model_module_version": "1.5.0",
       "_model_name": "FloatProgressModel",
       "_view_count": null,
       "_view_module": "@jupyter-widgets/controls",
       "_view_module_version": "1.5.0",
       "_view_name": "ProgressView",
       "bar_style": "success",
       "description": "",
       "description_tooltip": null,
       "layout": "IPY_MODEL_2a69c3ce5af04185847fa89db2fd70af",
       "max": 46827520.0,
       "min": 0.0,
       "orientation": "horizontal",
       "style": "IPY_MODEL_2de82fec72104b21afe6e7c137555d6a",
       "value": 46827520.0
      }
     },
     "8de875270a9e49b284723ba6894bc61f": {
      "model_module": "@jupyter-widgets/controls",
      "model_module_version": "1.5.0",
      "model_name": "HTMLModel",
      "state": {
       "_dom_classes": [],
       "_model_module": "@jupyter-widgets/controls",
       "_model_module_version": "1.5.0",
       "_model_name": "HTMLModel",
       "_view_count": null,
       "_view_module": "@jupyter-widgets/controls",
       "_view_module_version": "1.5.0",
       "_view_name": "HTMLView",
       "description": "",
       "description_tooltip": null,
       "layout": "IPY_MODEL_400f8e54e1e64630a34d497997930331",
       "placeholder": "​",
       "style": "IPY_MODEL_e4a83446d9b44205a1ae20088fa035b3",
       "value": " 44.7M/44.7M [00:02&lt;00:00, 24.7MB/s]"
      }
     },
     "91c7182c82be4097859ac93c83c81230": {
      "model_module": "@jupyter-widgets/controls",
      "model_module_version": "1.5.0",
      "model_name": "DescriptionStyleModel",
      "state": {
       "_model_module": "@jupyter-widgets/controls",
       "_model_module_version": "1.5.0",
       "_model_name": "DescriptionStyleModel",
       "_view_count": null,
       "_view_module": "@jupyter-widgets/base",
       "_view_module_version": "1.2.0",
       "_view_name": "StyleView",
       "description_width": ""
      }
     },
     "adf21068c32847309c3019e52432d4ab": {
      "model_module": "@jupyter-widgets/base",
      "model_module_version": "1.2.0",
      "model_name": "LayoutModel",
      "state": {
       "_model_module": "@jupyter-widgets/base",
       "_model_module_version": "1.2.0",
       "_model_name": "LayoutModel",
       "_view_count": null,
       "_view_module": "@jupyter-widgets/base",
       "_view_module_version": "1.2.0",
       "_view_name": "LayoutView",
       "align_content": null,
       "align_items": null,
       "align_self": null,
       "border": null,
       "bottom": null,
       "display": null,
       "flex": null,
       "flex_flow": null,
       "grid_area": null,
       "grid_auto_columns": null,
       "grid_auto_flow": null,
       "grid_auto_rows": null,
       "grid_column": null,
       "grid_gap": null,
       "grid_row": null,
       "grid_template_areas": null,
       "grid_template_columns": null,
       "grid_template_rows": null,
       "height": null,
       "justify_content": null,
       "justify_items": null,
       "left": null,
       "margin": null,
       "max_height": null,
       "max_width": null,
       "min_height": null,
       "min_width": null,
       "object_fit": null,
       "object_position": null,
       "order": null,
       "overflow": null,
       "overflow_x": null,
       "overflow_y": null,
       "padding": null,
       "right": null,
       "top": null,
       "visibility": null,
       "width": null
      }
     },
     "b1a66d7070384fd682d22cb33d6df936": {
      "model_module": "@jupyter-widgets/base",
      "model_module_version": "1.2.0",
      "model_name": "LayoutModel",
      "state": {
       "_model_module": "@jupyter-widgets/base",
       "_model_module_version": "1.2.0",
       "_model_name": "LayoutModel",
       "_view_count": null,
       "_view_module": "@jupyter-widgets/base",
       "_view_module_version": "1.2.0",
       "_view_name": "LayoutView",
       "align_content": null,
       "align_items": null,
       "align_self": null,
       "border": null,
       "bottom": null,
       "display": null,
       "flex": null,
       "flex_flow": null,
       "grid_area": null,
       "grid_auto_columns": null,
       "grid_auto_flow": null,
       "grid_auto_rows": null,
       "grid_column": null,
       "grid_gap": null,
       "grid_row": null,
       "grid_template_areas": null,
       "grid_template_columns": null,
       "grid_template_rows": null,
       "height": null,
       "justify_content": null,
       "justify_items": null,
       "left": null,
       "margin": null,
       "max_height": null,
       "max_width": null,
       "min_height": null,
       "min_width": null,
       "object_fit": null,
       "object_position": null,
       "order": null,
       "overflow": null,
       "overflow_x": null,
       "overflow_y": null,
       "padding": null,
       "right": null,
       "top": null,
       "visibility": null,
       "width": null
      }
     },
     "bd0ea99584db488383f1b622d9b09af5": {
      "model_module": "@jupyter-widgets/controls",
      "model_module_version": "1.5.0",
      "model_name": "HTMLModel",
      "state": {
       "_dom_classes": [],
       "_model_module": "@jupyter-widgets/controls",
       "_model_module_version": "1.5.0",
       "_model_name": "HTMLModel",
       "_view_count": null,
       "_view_module": "@jupyter-widgets/controls",
       "_view_module_version": "1.5.0",
       "_view_name": "HTMLView",
       "description": "",
       "description_tooltip": null,
       "layout": "IPY_MODEL_65676458c333456e8903f91b62a91a7a",
       "placeholder": "​",
       "style": "IPY_MODEL_2349fccd25bd4611819a69eae6dba549",
       "value": "100%"
      }
     },
     "dd560b546ff9448ebf848d7f8c9fde29": {
      "model_module": "@jupyter-widgets/controls",
      "model_module_version": "1.5.0",
      "model_name": "ProgressStyleModel",
      "state": {
       "_model_module": "@jupyter-widgets/controls",
       "_model_module_version": "1.5.0",
       "_model_name": "ProgressStyleModel",
       "_view_count": null,
       "_view_module": "@jupyter-widgets/base",
       "_view_module_version": "1.2.0",
       "_view_name": "StyleView",
       "bar_color": null,
       "description_width": ""
      }
     },
     "e191f63567644fc18f7049182ee3ff78": {
      "model_module": "@jupyter-widgets/controls",
      "model_module_version": "1.5.0",
      "model_name": "FloatProgressModel",
      "state": {
       "_dom_classes": [],
       "_model_module": "@jupyter-widgets/controls",
       "_model_module_version": "1.5.0",
       "_model_name": "FloatProgressModel",
       "_view_count": null,
       "_view_module": "@jupyter-widgets/controls",
       "_view_module_version": "1.5.0",
       "_view_name": "ProgressView",
       "bar_style": "",
       "description": "",
       "description_tooltip": null,
       "layout": "IPY_MODEL_624c0a3006b74535884854394bf4ffc3",
       "max": 1.0,
       "min": 0.0,
       "orientation": "horizontal",
       "style": "IPY_MODEL_dd560b546ff9448ebf848d7f8c9fde29",
       "value": 0.0
      }
     },
     "e250fcae4f6a421297f79a077f1e4b77": {
      "model_module": "@jupyter-widgets/controls",
      "model_module_version": "1.5.0",
      "model_name": "VBoxModel",
      "state": {
       "_dom_classes": [],
       "_model_module": "@jupyter-widgets/controls",
       "_model_module_version": "1.5.0",
       "_model_name": "VBoxModel",
       "_view_count": null,
       "_view_module": "@jupyter-widgets/controls",
       "_view_module_version": "1.5.0",
       "_view_name": "VBoxView",
       "box_style": "",
       "children": [
        "IPY_MODEL_782d5db54821416a97c24c23d6a52789",
        "IPY_MODEL_e191f63567644fc18f7049182ee3ff78"
       ],
       "layout": "IPY_MODEL_b1a66d7070384fd682d22cb33d6df936"
      }
     },
     "e4a83446d9b44205a1ae20088fa035b3": {
      "model_module": "@jupyter-widgets/controls",
      "model_module_version": "1.5.0",
      "model_name": "DescriptionStyleModel",
      "state": {
       "_model_module": "@jupyter-widgets/controls",
       "_model_module_version": "1.5.0",
       "_model_name": "DescriptionStyleModel",
       "_view_count": null,
       "_view_module": "@jupyter-widgets/base",
       "_view_module_version": "1.2.0",
       "_view_name": "StyleView",
       "description_width": ""
      }
     }
    },
    "version_major": 2,
    "version_minor": 0
   }
  }
 },
 "nbformat": 4,
 "nbformat_minor": 4
}
